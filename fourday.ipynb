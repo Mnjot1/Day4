{
 "cells": [
  {
   "cell_type": "markdown",
   "id": "dcc48278-922f-4b8f-b21e-2daa996fac51",
   "metadata": {},
   "source": [
    "### Strings and list"
   ]
  },
  {
   "cell_type": "code",
   "execution_count": 1,
   "id": "03d95d89-3a69-4579-93d2-9e5bcc0f8699",
   "metadata": {},
   "outputs": [
    {
     "name": "stdout",
     "output_type": "stream",
     "text": [
      "Data Science Master\n"
     ]
    }
   ],
   "source": [
    "## capitalize first upper case and all lower\n",
    "course_name=\"Data Science Master\"\n",
    "print(course_name)"
   ]
  },
  {
   "cell_type": "code",
   "execution_count": 3,
   "id": "dc7d2af3-9202-42d4-9719-1be8ab37649b",
   "metadata": {},
   "outputs": [
    {
     "data": {
      "text/plain": [
       "'Data science master'"
      ]
     },
     "execution_count": 3,
     "metadata": {},
     "output_type": "execute_result"
    }
   ],
   "source": [
    "course_name.capitalize()"
   ]
  },
  {
   "cell_type": "markdown",
   "id": "b1ecce44-dcef-4d58-97bb-57070e7442ea",
   "metadata": {},
   "source": [
    "### reverse a string"
   ]
  },
  {
   "cell_type": "code",
   "execution_count": 5,
   "id": "10cae128-316b-4068-aa35-14966da36ca2",
   "metadata": {},
   "outputs": [
    {
     "data": {
      "text/plain": [
       "'retsaM ecneicS ataD'"
      ]
     },
     "execution_count": 5,
     "metadata": {},
     "output_type": "execute_result"
    }
   ],
   "source": [
    "course_name[::-1]"
   ]
  },
  {
   "cell_type": "code",
   "execution_count": 6,
   "id": "e388b6e1-ba30-40d8-9630-283a4870c003",
   "metadata": {},
   "outputs": [
    {
     "data": {
      "text/plain": [
       "<reversed at 0x7f3e5c52fac0>"
      ]
     },
     "execution_count": 6,
     "metadata": {},
     "output_type": "execute_result"
    }
   ],
   "source": [
    "reversed(course_name)"
   ]
  },
  {
   "cell_type": "code",
   "execution_count": 10,
   "id": "9b8843d1-fdbd-4a8e-bebd-067ffa7254f6",
   "metadata": {},
   "outputs": [
    {
     "data": {
      "text/plain": [
       "'r e t s a M   e c n e i c S   a t a D'"
      ]
     },
     "execution_count": 10,
     "metadata": {},
     "output_type": "execute_result"
    }
   ],
   "source": [
    "' '.join(reversed(course_name))"
   ]
  },
  {
   "cell_type": "code",
   "execution_count": 33,
   "id": "b8a38471-a1ed-4951-bcf3-5c6d4e557c0a",
   "metadata": {},
   "outputs": [
    {
     "data": {
      "text/plain": [
       "'r $ e $ t $ s $ a $ M $   $ e $ c $ n $ e $ i $ c $ S $   $ a $ t $ a $ D'"
      ]
     },
     "execution_count": 33,
     "metadata": {},
     "output_type": "execute_result"
    }
   ],
   "source": [
    "\" $ \".join(reversed(course_name))"
   ]
  },
  {
   "cell_type": "code",
   "execution_count": 16,
   "id": "33fdaa6a-6ce8-4b77-b08e-3efac53f3a82",
   "metadata": {},
   "outputs": [
    {
     "data": {
      "text/plain": [
       "'A$B'"
      ]
     },
     "execution_count": 16,
     "metadata": {},
     "output_type": "execute_result"
    }
   ],
   "source": [
    "'$'.join(\"AB\")"
   ]
  },
  {
   "cell_type": "code",
   "execution_count": 19,
   "id": "b75ed131-06a9-4635-915c-0b6dd650716a",
   "metadata": {},
   "outputs": [
    {
     "data": {
      "text/plain": [
       "'t n a'"
      ]
     },
     "execution_count": 19,
     "metadata": {},
     "output_type": "execute_result"
    }
   ],
   "source": [
    "' '.join(reversed(\"ant\"))"
   ]
  },
  {
   "cell_type": "code",
   "execution_count": 23,
   "id": "0b4aa07d-88ba-43a9-9e3c-caf20b652526",
   "metadata": {},
   "outputs": [
    {
     "data": {
      "text/plain": [
       "'t Pwskills n Pwskills a'"
      ]
     },
     "execution_count": 23,
     "metadata": {},
     "output_type": "execute_result"
    }
   ],
   "source": [
    "' Pwskills '.join(reversed(\"ant\"))"
   ]
  },
  {
   "cell_type": "code",
   "execution_count": 24,
   "id": "c56c4011-4ee7-42c2-a6c9-0a413904bea6",
   "metadata": {},
   "outputs": [
    {
     "data": {
      "text/plain": [
       "<reversed at 0x7f3e4c44e740>"
      ]
     },
     "execution_count": 24,
     "metadata": {},
     "output_type": "execute_result"
    }
   ],
   "source": [
    "reversed(course_name)"
   ]
  },
  {
   "cell_type": "code",
   "execution_count": 34,
   "id": "971828a7-06d9-435e-82ef-89c0b480cbea",
   "metadata": {},
   "outputs": [
    {
     "data": {
      "text/plain": [
       "['r',\n",
       " 'e',\n",
       " 't',\n",
       " 's',\n",
       " 'a',\n",
       " 'M',\n",
       " ' ',\n",
       " 'e',\n",
       " 'c',\n",
       " 'n',\n",
       " 'e',\n",
       " 'i',\n",
       " 'c',\n",
       " 'S',\n",
       " ' ',\n",
       " 'a',\n",
       " 't',\n",
       " 'a',\n",
       " 'D']"
      ]
     },
     "execution_count": 34,
     "metadata": {},
     "output_type": "execute_result"
    }
   ],
   "source": [
    "list(reversed(course_name))"
   ]
  },
  {
   "cell_type": "code",
   "execution_count": 35,
   "id": "27c2eacc-f6a5-46bf-8a3c-55981a3d6c4d",
   "metadata": {},
   "outputs": [
    {
     "data": {
      "text/plain": [
       "'<reversed object at 0x7f3e4c44de10>'"
      ]
     },
     "execution_count": 35,
     "metadata": {},
     "output_type": "execute_result"
    }
   ],
   "source": [
    "str(reversed(course_name))"
   ]
  },
  {
   "cell_type": "code",
   "execution_count": 1,
   "id": "a123caa1-b1cf-44a9-a5a5-320aeb70160a",
   "metadata": {},
   "outputs": [
    {
     "name": "stdout",
     "output_type": "stream",
     "text": [
      "Manjot singh jo\n"
     ]
    }
   ],
   "source": [
    "name=\"Manjot singh jo\"\n",
    "print(name)"
   ]
  },
  {
   "cell_type": "code",
   "execution_count": 2,
   "id": "5226e586-7a8c-466d-95ce-5a45fe495357",
   "metadata": {},
   "outputs": [
    {
     "data": {
      "text/plain": [
       "<reversed at 0x7f6abc188f40>"
      ]
     },
     "execution_count": 2,
     "metadata": {},
     "output_type": "execute_result"
    }
   ],
   "source": [
    "reversed(name)"
   ]
  },
  {
   "cell_type": "code",
   "execution_count": 6,
   "id": "e19f38fa-b456-49ab-87d0-f689b842ca0a",
   "metadata": {},
   "outputs": [
    {
     "data": {
      "text/plain": [
       "'oj hgnis tojnaM'"
      ]
     },
     "execution_count": 6,
     "metadata": {},
     "output_type": "execute_result"
    }
   ],
   "source": [
    "\"\".join(reversed(name))"
   ]
  },
  {
   "cell_type": "code",
   "execution_count": 10,
   "id": "d0d4ec2b-364c-4744-8031-8b633a9aeccc",
   "metadata": {},
   "outputs": [
    {
     "data": {
      "text/plain": [
       "'tna'"
      ]
     },
     "execution_count": 10,
     "metadata": {},
     "output_type": "execute_result"
    }
   ],
   "source": [
    "''.join(reversed(\"ant\"))"
   ]
  },
  {
   "cell_type": "code",
   "execution_count": 12,
   "id": "d5e654ca-fbb8-4e29-99c1-200e45639047",
   "metadata": {},
   "outputs": [
    {
     "data": {
      "text/plain": [
       "'dcba'"
      ]
     },
     "execution_count": 12,
     "metadata": {},
     "output_type": "execute_result"
    }
   ],
   "source": [
    "''.join(reversed(\"abcd\"))"
   ]
  },
  {
   "cell_type": "code",
   "execution_count": 13,
   "id": "30f8c938-d156-4377-b1e1-cfa23af68f46",
   "metadata": {},
   "outputs": [
    {
     "data": {
      "text/plain": [
       "'t Pw Skills n Pw Skills a'"
      ]
     },
     "execution_count": 13,
     "metadata": {},
     "output_type": "execute_result"
    }
   ],
   "source": [
    "\" Pw Skills \".join(reversed(\"ant\"))"
   ]
  },
  {
   "cell_type": "code",
   "execution_count": 18,
   "id": "a0378989-ca06-405a-8702-5acd2f2f9e00",
   "metadata": {},
   "outputs": [
    {
     "data": {
      "text/plain": [
       "['t', 'n', 'a']"
      ]
     },
     "execution_count": 18,
     "metadata": {},
     "output_type": "execute_result"
    }
   ],
   "source": [
    "list(reversed(\"ant\"))"
   ]
  },
  {
   "cell_type": "code",
   "execution_count": 23,
   "id": "2c6fb4c7-eedb-4bba-9363-5febbdc929a7",
   "metadata": {},
   "outputs": [
    {
     "name": "stdout",
     "output_type": "stream",
     "text": [
      "y $ n $ a $ p $ m $ o $ c $   $ d $ o $ o $ g $   $ s $ i $   $ w $ P\n"
     ]
    }
   ],
   "source": [
    "str1=\"Pw is good company\"\n",
    "print(' $ '.join(reversed(str1)))"
   ]
  },
  {
   "cell_type": "code",
   "execution_count": 9,
   "id": "872d99ce-0604-4493-bcf7-7e09184bfc18",
   "metadata": {},
   "outputs": [
    {
     "name": "stdin",
     "output_type": "stream",
     "text": [
      "Please enter your name Manjot jot\n",
      "Please enter the number for who many times you want to repeat your name:  3\n"
     ]
    },
    {
     "name": "stdout",
     "output_type": "stream",
     "text": [
      "My name is Manjot jot \n",
      "My name is Manjot jot \n",
      "My name is Manjot jot \n"
     ]
    }
   ],
   "source": [
    "name=input(\"Please enter your name\")\n",
    "num=(int(input(\"Please enter the number for who many times you want to repeat your name: \")))\n",
    "while num >=1:\n",
    "        print(\"My name is {} \\n\".format(name),end=\"\")\n",
    "       \n",
    "        \n",
    "        num-=1\n",
    "        \n",
    "        ## you've done it wow manjot "
   ]
  },
  {
   "cell_type": "code",
   "execution_count": 13,
   "id": "1c85284b-f273-4df2-93d0-c3ae219f944f",
   "metadata": {},
   "outputs": [
    {
     "name": "stdout",
     "output_type": "stream",
     "text": [
      "toj tojnaM"
     ]
    }
   ],
   "source": [
    "for i in ''.join(reversed(name)):\n",
    "        print(i,end=\"\")"
   ]
  },
  {
   "cell_type": "code",
   "execution_count": 14,
   "id": "60860f6c-66df-46c0-acea-89ad7d33c105",
   "metadata": {},
   "outputs": [
    {
     "name": "stdout",
     "output_type": "stream",
     "text": [
      "toj tojnaM"
     ]
    }
   ],
   "source": [
    "for i in tuple(reversed(name)):\n",
    "      print(i,end=\"\")"
   ]
  },
  {
   "cell_type": "code",
   "execution_count": 15,
   "id": "457eba80-aef3-4b53-8c86-54dd6aed1d2a",
   "metadata": {},
   "outputs": [
    {
     "name": "stdout",
     "output_type": "stream",
     "text": [
      "PW skills\n"
     ]
    }
   ],
   "source": [
    "## removing character from the end of string\n",
    "course=\" PW skills \"\n",
    "print(course.strip(\" \"))"
   ]
  },
  {
   "cell_type": "code",
   "execution_count": 16,
   "id": "6582baac-f05f-4dd4-82ba-f8b12a419baa",
   "metadata": {},
   "outputs": [
    {
     "name": "stdout",
     "output_type": "stream",
     "text": [
      "PW skills \n",
      " PW skills\n"
     ]
    }
   ],
   "source": [
    "print(course.lstrip(\" \"))\n",
    "print(course.rstrip(\" \"))"
   ]
  },
  {
   "cell_type": "code",
   "execution_count": 12,
   "id": "f903ee4a-4929-4209-90ae-9cc0014e52a6",
   "metadata": {},
   "outputs": [],
   "source": [
    "string=\"Manjot\""
   ]
  },
  {
   "cell_type": "code",
   "execution_count": 13,
   "id": "91ecf487-a9af-4650-9929-b39831ac5e0c",
   "metadata": {},
   "outputs": [
    {
     "name": "stdout",
     "output_type": "stream",
     "text": [
      "Manjot\n"
     ]
    }
   ],
   "source": [
    "print(string)"
   ]
  },
  {
   "cell_type": "code",
   "execution_count": 14,
   "id": "e8338dc8-2dc7-42bc-87f8-21ce7e8fb38b",
   "metadata": {},
   "outputs": [
    {
     "name": "stdout",
     "output_type": "stream",
     "text": [
      "M\n"
     ]
    }
   ],
   "source": [
    "print(string[0])"
   ]
  },
  {
   "cell_type": "code",
   "execution_count": 15,
   "id": "1f108b04-320d-4f2b-9cf9-5bb644b4522f",
   "metadata": {},
   "outputs": [
    {
     "data": {
      "text/plain": [
       "'a'"
      ]
     },
     "execution_count": 15,
     "metadata": {},
     "output_type": "execute_result"
    }
   ],
   "source": [
    "string[1]"
   ]
  },
  {
   "cell_type": "code",
   "execution_count": 18,
   "id": "5d24a354-1125-41d6-b26c-c26b11bf6611",
   "metadata": {},
   "outputs": [
    {
     "ename": "TypeError",
     "evalue": "'str' object does not support item assignment",
     "output_type": "error",
     "traceback": [
      "\u001b[0;31m---------------------------------------------------------------------------\u001b[0m",
      "\u001b[0;31mTypeError\u001b[0m                                 Traceback (most recent call last)",
      "Cell \u001b[0;32mIn[18], line 1\u001b[0m\n\u001b[0;32m----> 1\u001b[0m \u001b[43mstring\u001b[49m\u001b[43m[\u001b[49m\u001b[38;5;241;43m1\u001b[39;49m\u001b[43m]\u001b[49m\u001b[38;5;241m=\u001b[39m\u001b[38;5;124m\"\u001b[39m\u001b[38;5;124mg\u001b[39m\u001b[38;5;124m\"\u001b[39m\n",
      "\u001b[0;31mTypeError\u001b[0m: 'str' object does not support item assignment"
     ]
    }
   ],
   "source": [
    "string[1]=\"g\""
   ]
  },
  {
   "cell_type": "code",
   "execution_count": 19,
   "id": "2592b7d0-de5e-48c1-8ac3-6651703adfd3",
   "metadata": {},
   "outputs": [
    {
     "name": "stdout",
     "output_type": "stream",
     "text": [
      "[1, 2, 4, 5]\n"
     ]
    }
   ],
   "source": [
    "lst=[1,2,4,5]\n",
    "print(lst)"
   ]
  },
  {
   "cell_type": "code",
   "execution_count": 21,
   "id": "6f6531f2-a0e1-4604-ae8b-4c1f1bf62f0f",
   "metadata": {},
   "outputs": [
    {
     "name": "stdout",
     "output_type": "stream",
     "text": [
      "[10, 2, 4, 5]\n"
     ]
    }
   ],
   "source": [
    "lst[0]=10\n",
    "print(lst)"
   ]
  },
  {
   "cell_type": "code",
   "execution_count": 22,
   "id": "d15fa98a-9418-44c6-bf32-edb684b5ca1c",
   "metadata": {},
   "outputs": [
    {
     "data": {
      "text/plain": [
       "[10, 2, 4, 5]"
      ]
     },
     "execution_count": 22,
     "metadata": {},
     "output_type": "execute_result"
    }
   ],
   "source": [
    "## yes list and tuple are mutable their values can be changed and other varibales like string and int are immutable\n",
    "lst"
   ]
  },
  {
   "cell_type": "code",
   "execution_count": 29,
   "id": "da31c882-313a-4a99-b0e4-b7483a1135e0",
   "metadata": {},
   "outputs": [
    {
     "name": "stdout",
     "output_type": "stream",
     "text": [
      "from\n",
      "Grbbting from Pw Skills\n",
      "Greeting to Pw Skills\n"
     ]
    }
   ],
   "source": [
    "## replacing a string words\n",
    "string_n=\"Greeting from Pw Skills\"\n",
    "print(string_n.replace(\"Greeting from Pw Skills\",\"from\"))\n",
    "print(string_n.replace(\"e\",\"b\"))\n",
    "print(string_n.replace(\"from\",\"to\"))"
   ]
  },
  {
   "cell_type": "code",
   "execution_count": 31,
   "id": "b7d834d2-5226-41bc-80a0-f508faa5d2a5",
   "metadata": {},
   "outputs": [
    {
     "name": "stdout",
     "output_type": "stream",
     "text": [
      "140315275082880\n",
      "140314974487936\n"
     ]
    }
   ],
   "source": [
    "lst_1=[1,2,3,4]\n",
    "lst_2=[1,2,3,4]\n",
    "print(id(lst_1))\n",
    "print(id(lst_2))"
   ]
  },
  {
   "cell_type": "code",
   "execution_count": 32,
   "id": "33656fef-dd4d-4cc6-9bcb-e78591695277",
   "metadata": {},
   "outputs": [
    {
     "name": "stdout",
     "output_type": "stream",
     "text": [
      "140314974268016\n",
      "140314974268016\n"
     ]
    }
   ],
   "source": [
    "str1=\"Manjot\"\n",
    "str2=\"Manjot\"\n",
    "print(id(str1))\n",
    "print(id(str2))"
   ]
  },
  {
   "cell_type": "code",
   "execution_count": 35,
   "id": "4d80e289-ce9e-40fb-8499-fb31b42c45bf",
   "metadata": {},
   "outputs": [
    {
     "name": "stdout",
     "output_type": "stream",
     "text": [
      "140314974255600\n",
      "140314974247856\n"
     ]
    }
   ],
   "source": [
    "## Proving that strings are immutuable\n",
    "string_a=\"Hello world\"\n",
    "var1=string_a.replace(\"H\",\"S\")\n",
    "print(id(string_a))\n",
    "print(id(var1))\n",
    "\n",
    "## yes they are different acting like list and tuple so, it is proved that strings are immutbale"
   ]
  },
  {
   "cell_type": "code",
   "execution_count": 49,
   "id": "f74df412-b0fe-4ba8-bdf5-479e7c4c8e37",
   "metadata": {},
   "outputs": [
    {
     "name": "stdout",
     "output_type": "stream",
     "text": [
      "Hello\tWorld\n"
     ]
    }
   ],
   "source": [
    "str1=\"Hello{}World\".format(\"\\t\")\n",
    "print(str1)"
   ]
  },
  {
   "cell_type": "raw",
   "id": "bd05cc14-ff28-4447-829f-414b5f09f48a",
   "metadata": {},
   "source": [
    "str2=\"Hello \\nworld\".expandtabs()\n",
    "print(str2)"
   ]
  },
  {
   "cell_type": "code",
   "execution_count": 4,
   "id": "a8c3e262-eeae-4eec-893f-654b483ef8ed",
   "metadata": {},
   "outputs": [
    {
     "name": "stdout",
     "output_type": "stream",
     "text": [
      " Welcome to pw skills, Welcome to Data Science course \n"
     ]
    }
   ],
   "source": [
    "str1= \" Welcome to pw skills. Welcome to Dat cience course \"\n",
    "print(str1.replace(\".\",\",\").replace(\"Dat\", \"Data\").replace(\"cience\", \"Science\"))"
   ]
  },
  {
   "cell_type": "code",
   "execution_count": 6,
   "id": "7c42bc68-8962-49cf-96f3-6646e8ca7253",
   "metadata": {},
   "outputs": [
    {
     "name": "stdout",
     "output_type": "stream",
     "text": [
      "False\n"
     ]
    }
   ],
   "source": [
    "## how to check whether the string is upper or lower\n",
    "print(str1.isupper())\n"
   ]
  },
  {
   "cell_type": "code",
   "execution_count": 7,
   "id": "99f4c443-baf1-4deb-a41d-057ddf00e185",
   "metadata": {},
   "outputs": [
    {
     "data": {
      "text/plain": [
       "True"
      ]
     },
     "execution_count": 7,
     "metadata": {},
     "output_type": "execute_result"
    }
   ],
   "source": [
    "str1=\"manjot\"\n",
    "str1.islower()"
   ]
  },
  {
   "cell_type": "code",
   "execution_count": 8,
   "id": "54b29489-f9be-4a20-8e88-077ecb4f292f",
   "metadata": {},
   "outputs": [
    {
     "data": {
      "text/plain": [
       "True"
      ]
     },
     "execution_count": 8,
     "metadata": {},
     "output_type": "execute_result"
    }
   ],
   "source": [
    "\" \".isspace()"
   ]
  },
  {
   "cell_type": "code",
   "execution_count": 13,
   "id": "44143965-b495-43b7-a9bd-57710fbed80b",
   "metadata": {},
   "outputs": [
    {
     "data": {
      "text/plain": [
       "True"
      ]
     },
     "execution_count": 13,
     "metadata": {},
     "output_type": "execute_result"
    }
   ],
   "source": [
    "## endswith\n",
    "\n",
    "str1.endswith('T')"
   ]
  },
  {
   "cell_type": "code",
   "execution_count": 16,
   "id": "2f769d77-9e81-4ed8-889a-077d4a2c80b4",
   "metadata": {},
   "outputs": [
    {
     "data": {
      "text/plain": [
       "True"
      ]
     },
     "execution_count": 16,
     "metadata": {},
     "output_type": "execute_result"
    }
   ],
   "source": [
    "# start with\n",
    "str1.startswith('M')"
   ]
  },
  {
   "cell_type": "code",
   "execution_count": 22,
   "id": "5aff52a9-a50c-476f-8d84-46ef48c69961",
   "metadata": {},
   "outputs": [
    {
     "data": {
      "text/plain": [
       "True"
      ]
     },
     "execution_count": 22,
     "metadata": {},
     "output_type": "execute_result"
    }
   ],
   "source": [
    "## how to check if some number is alphanumeric\n",
    "value=\"c2j\"\n",
    "value.isalnum()"
   ]
  },
  {
   "cell_type": "code",
   "execution_count": 1,
   "id": "f342a8bc-3025-47ef-a23b-e77f8a194eb8",
   "metadata": {},
   "outputs": [],
   "source": [
    "## Bascially how function is made with for or while loops like \n",
    "## try to write some in-built function"
   ]
  },
  {
   "cell_type": "code",
   "execution_count": 10,
   "id": "6125b1ee-f0f8-45ab-9714-ac1ecc14b152",
   "metadata": {},
   "outputs": [
    {
     "ename": "SyntaxError",
     "evalue": "invalid syntax (3055299731.py, line 4)",
     "output_type": "error",
     "traceback": [
      "\u001b[0;36m  Cell \u001b[0;32mIn[10], line 4\u001b[0;36m\u001b[0m\n\u001b[0;31m    str1.count(:)\u001b[0m\n\u001b[0m               ^\u001b[0m\n\u001b[0;31mSyntaxError\u001b[0m\u001b[0;31m:\u001b[0m invalid syntax\n"
     ]
    }
   ],
   "source": [
    "## write me a code to count number of character in string\n",
    "str1=\"Manjot Singh Dhindsa\"\n",
    "\n",
    "str1.count(:)"
   ]
  },
  {
   "cell_type": "code",
   "execution_count": 11,
   "id": "bcf2a257-3686-4354-83b7-0c5dfb925c63",
   "metadata": {},
   "outputs": [
    {
     "data": {
      "text/plain": [
       "20"
      ]
     },
     "execution_count": 11,
     "metadata": {},
     "output_type": "execute_result"
    }
   ],
   "source": [
    "len(str1)"
   ]
  },
  {
   "cell_type": "code",
   "execution_count": 15,
   "id": "13443b18-2766-4da1-a99c-c88083d7eeb7",
   "metadata": {},
   "outputs": [
    {
     "data": {
      "text/plain": [
       "21"
      ]
     },
     "execution_count": 15,
     "metadata": {},
     "output_type": "execute_result"
    }
   ],
   "source": [
    "str1.count('')"
   ]
  },
  {
   "cell_type": "code",
   "execution_count": 33,
   "id": "c3e9ee14-e501-4f7b-835c-101035ec66e7",
   "metadata": {},
   "outputs": [
    {
     "name": "stdin",
     "output_type": "stream",
     "text": [
      "Please enter the string to count the number of characters in it: Manjot Singh Dhindsa\n"
     ]
    },
    {
     "name": "stdout",
     "output_type": "stream",
     "text": [
      "21\n"
     ]
    }
   ],
   "source": [
    "string=input(\"Please enter the string to count the number of characters in it:\")\n",
    "count=1\n",
    "for i in range (len(string)):\n",
    "        count+=1\n",
    "print(count)"
   ]
  },
  {
   "cell_type": "code",
   "execution_count": 32,
   "id": "3d01e61d-a008-4feb-b2e1-7133f2df406c",
   "metadata": {},
   "outputs": [
    {
     "data": {
      "text/plain": [
       "21"
      ]
     },
     "execution_count": 32,
     "metadata": {},
     "output_type": "execute_result"
    }
   ],
   "source": [
    "string.count('')"
   ]
  },
  {
   "cell_type": "code",
   "execution_count": 34,
   "id": "bffd54ab-35e2-43ca-a889-641124f4ef57",
   "metadata": {},
   "outputs": [
    {
     "data": {
      "text/plain": [
       "20"
      ]
     },
     "execution_count": 34,
     "metadata": {},
     "output_type": "execute_result"
    }
   ],
   "source": [
    "len(string)"
   ]
  },
  {
   "cell_type": "code",
   "execution_count": 42,
   "id": "97912b66-49a4-4d69-97f3-8eb687d8cb2f",
   "metadata": {},
   "outputs": [
    {
     "name": "stdout",
     "output_type": "stream",
     "text": [
      "M\n",
      "a\n",
      "n\n",
      "j\n",
      "o\n",
      "t\n"
     ]
    }
   ],
   "source": [
    "stirng=\"Pw Skills\"\n",
    "count=0\n",
    "for i in str1:\n",
    "     print(i))"
   ]
  },
  {
   "cell_type": "code",
   "execution_count": 4,
   "id": "53fedc31-8b21-479c-b83b-d1263d0b47c6",
   "metadata": {},
   "outputs": [
    {
     "name": "stdin",
     "output_type": "stream",
     "text": [
      "Please enter the name to count the character in string: Manjot Singh Dhindsa\n"
     ]
    },
    {
     "name": "stdout",
     "output_type": "stream",
     "text": [
      "20\n"
     ]
    }
   ],
   "source": [
    "num=input(\"Please enter the name to count the character in string:\")\n",
    "count=0\n",
    "for i in num:\n",
    "         count+=1\n",
    "print(count)"
   ]
  },
  {
   "cell_type": "code",
   "execution_count": 10,
   "id": "ef8fd4b7-1860-4aa8-95c2-625b23855673",
   "metadata": {},
   "outputs": [
    {
     "name": "stdin",
     "output_type": "stream",
     "text": [
      "Please enter the name to count the character in string: manot\n"
     ]
    },
    {
     "name": "stdout",
     "output_type": "stream",
     "text": [
      "5\n"
     ]
    }
   ],
   "source": [
    "num=input(\"Please enter the name to count the character in string:\")\n",
    "count=0\n",
    "for i in (num):\n",
    "         count+=1\n",
    "print(count)"
   ]
  },
  {
   "cell_type": "code",
   "execution_count": 12,
   "id": "3746bf30-b107-44e2-9ead-c98dc1649707",
   "metadata": {},
   "outputs": [
    {
     "name": "stdin",
     "output_type": "stream",
     "text": [
      "Please enter the name to display every character of string: Manjot singh\n"
     ]
    },
    {
     "name": "stdout",
     "output_type": "stream",
     "text": [
      "M\n",
      "a\n",
      "n\n",
      "j\n",
      "o\n",
      "t\n",
      " \n",
      "s\n",
      "i\n",
      "n\n",
      "g\n",
      "h\n"
     ]
    }
   ],
   "source": [
    "## display every character of string in new line\n",
    "string=input(\"Please enter the name to display every character of string:\")\n",
    "for i in string:\n",
    "    print(i)"
   ]
  },
  {
   "cell_type": "code",
   "execution_count": 24,
   "id": "d4fbfb72-08ba-41ee-ac1e-de7eaa24a6db",
   "metadata": {},
   "outputs": [
    {
     "name": "stdin",
     "output_type": "stream",
     "text": [
      "Please enter the name to display reserve of it:  Manjot Singh\n"
     ]
    },
    {
     "name": "stdout",
     "output_type": "stream",
     "text": [
      "h\n",
      "g\n",
      "n\n",
      "i\n",
      "s\n",
      " \n",
      "t\n",
      "o\n",
      "j\n",
      "n\n",
      "a\n",
      "M\n"
     ]
    }
   ],
   "source": [
    "string1=input(\"Please enter the name to display reserve of it: \")\n",
    "for i in reversed(string):\n",
    "     print(i)"
   ]
  },
  {
   "cell_type": "code",
   "execution_count": 38,
   "id": "13ba6f81-4ea6-4a80-ab4d-55bea3ae4d2e",
   "metadata": {},
   "outputs": [
    {
     "name": "stdin",
     "output_type": "stream",
     "text": [
      "Please enter the name to see the display it character and index wise:  jashandeep\n"
     ]
    },
    {
     "name": "stdout",
     "output_type": "stream",
     "text": [
      "index [0] = p\n",
      "index [1] = e\n",
      "index [2] = e\n",
      "index [3] = d\n",
      "index [4] = n\n",
      "index [5] = a\n",
      "index [6] = h\n",
      "index [7] = s\n",
      "index [8] = a\n",
      "index [9] = j\n"
     ]
    }
   ],
   "source": [
    "string2=input(\"Please enter the name to see the display it character and index wise: \")\n",
    "count=0\n",
    "for i in reversed(string2):\n",
    "    \n",
    "    print(\"index [{}] = {}\".format(count,i))\n",
    "    count+=1"
   ]
  },
  {
   "cell_type": "code",
   "execution_count": 57,
   "id": "4a2848d9-41fe-4a57-a752-a506aa24002e",
   "metadata": {},
   "outputs": [
    {
     "name": "stdout",
     "output_type": "stream",
     "text": [
      "P 0\n",
      "w 1\n",
      "S 2\n",
      "k 3\n",
      "i 4\n",
      "l 5\n",
      "l 6\n",
      "s 7\n"
     ]
    }
   ],
   "source": [
    "str2=\"PwSkills\"\n",
    "count=0\n",
    "for i in str2:\n",
    "    print(i,count)\n",
    "    count+=1"
   ]
  },
  {
   "cell_type": "code",
   "execution_count": 44,
   "id": "87d2a6d6-585b-4fc7-8d16-00db622bfab9",
   "metadata": {},
   "outputs": [
    {
     "data": {
      "text/plain": [
       "range(0, 9)"
      ]
     },
     "execution_count": 44,
     "metadata": {},
     "output_type": "execute_result"
    }
   ],
   "source": [
    "range (len(str2))"
   ]
  },
  {
   "cell_type": "code",
   "execution_count": 60,
   "id": "696de63f-447e-43c0-afb5-50dce5e44091",
   "metadata": {},
   "outputs": [
    {
     "name": "stdin",
     "output_type": "stream",
     "text": [
      "Please enter a string which can be reversed with index numbers: manjot\n"
     ]
    },
    {
     "name": "stdout",
     "output_type": "stream",
     "text": [
      "index 0 = character m\n",
      "index 1 = character a\n",
      "index 2 = character n\n",
      "index 3 = character j\n",
      "index 4 = character o\n",
      "index 5 = character t\n"
     ]
    }
   ],
   "source": [
    "string=input(\"Please enter a string which can be reversed with index numbers:\")\n",
    "count=0\n",
    "for i in string:\n",
    "    print(\"index {} = character {}\".format(count,i))\n",
    "    count+=1"
   ]
  },
  {
   "cell_type": "code",
   "execution_count": 62,
   "id": "76765d0f-2a55-49be-90cf-a2eb28ea6f3e",
   "metadata": {},
   "outputs": [
    {
     "name": "stdin",
     "output_type": "stream",
     "text": [
      "Please enter a string which can be reversed with index numbers: Manjot\n"
     ]
    },
    {
     "name": "stdout",
     "output_type": "stream",
     "text": [
      "index 0 = character t\n",
      "index 1 = character o\n",
      "index 2 = character j\n",
      "index 3 = character n\n",
      "index 4 = character a\n",
      "index 5 = character M\n"
     ]
    }
   ],
   "source": [
    "string=input(\"Please enter a string which can be reversed with index numbers:\")\n",
    "count=0\n",
    "for i in reversed(string):\n",
    "    print(\"index {} = character {}\".format(count,i))\n",
    "    count+=1"
   ]
  },
  {
   "cell_type": "code",
   "execution_count": 70,
   "id": "a4d434a0-c23c-414e-8b9c-f0546b6670f8",
   "metadata": {},
   "outputs": [
    {
     "name": "stdin",
     "output_type": "stream",
     "text": [
      "Please enter a string which can be reversed with index numbers: mnnjk\n"
     ]
    },
    {
     "name": "stdout",
     "output_type": "stream",
     "text": [
      "index 0 = character m\n",
      "index 1 = character n\n",
      "index 2 = character n\n",
      "index 3 = character j\n",
      "index 4 = character k\n"
     ]
    }
   ],
   "source": [
    "## manullay in built reserved function\n",
    "string=input(\"Please enter a string which can be reversed with index numbers:\")\n",
    "count=0\n",
    "for i in string:\n",
    "    print(\"index {} = character {}\".format(count,i))\n",
    "    count+=1"
   ]
  },
  {
   "cell_type": "code",
   "execution_count": 20,
   "id": "1d12ee99-08f7-4eb0-8ea7-a21af0e716f6",
   "metadata": {},
   "outputs": [
    {
     "ename": "TypeError",
     "evalue": "'str' object is not callable",
     "output_type": "error",
     "traceback": [
      "\u001b[0;31m---------------------------------------------------------------------------\u001b[0m",
      "\u001b[0;31mTypeError\u001b[0m                                 Traceback (most recent call last)",
      "Cell \u001b[0;32mIn[20], line 3\u001b[0m\n\u001b[1;32m      1\u001b[0m str2\u001b[38;5;241m=\u001b[39m\u001b[38;5;124m\"\u001b[39m\u001b[38;5;124mManjot Singh\u001b[39m\u001b[38;5;124m\"\u001b[39m\n\u001b[1;32m      2\u001b[0m \u001b[38;5;28;01mfor\u001b[39;00m i \u001b[38;5;129;01min\u001b[39;00m (\u001b[38;5;28mlen\u001b[39m(str2),\u001b[38;5;241m-\u001b[39m\u001b[38;5;241m1\u001b[39m,\u001b[38;5;241m-\u001b[39m\u001b[38;5;241m1\u001b[39m):\n\u001b[0;32m----> 3\u001b[0m     \u001b[38;5;28mprint\u001b[39m(\u001b[43mstr2\u001b[49m\u001b[43m(\u001b[49m\u001b[43mi\u001b[49m\u001b[43m)\u001b[49m)\n",
      "\u001b[0;31mTypeError\u001b[0m: 'str' object is not callable"
     ]
    }
   ],
   "source": [
    "str2=\"Manjot Singh\"\n",
    "for i in (len(str2),-1,-1):\n",
    "    print(str2(i))"
   ]
  },
  {
   "cell_type": "code",
   "execution_count": 16,
   "id": "52442924-c0b0-4f25-8955-45c31b1f2bbd",
   "metadata": {},
   "outputs": [
    {
     "name": "stdout",
     "output_type": "stream",
     "text": [
      "- 6  t \n",
      "- 5  o \n",
      "- 4  j \n",
      "- 3  n \n",
      "- 2  a \n",
      "- 1  M \n"
     ]
    }
   ],
   "source": [
    "## print a reverse string with help of function and without the function\n",
    "string=\"Manjot\"\n",
    "count=len(string)\n",
    "for i in reversed(string):\n",
    "    print(\"- {}  {} \".format(count,i))\n",
    "    count-=1"
   ]
  },
  {
   "cell_type": "code",
   "execution_count": 18,
   "id": "e3c09570-0d4b-406e-b92c-51a26ade7d04",
   "metadata": {},
   "outputs": [
    {
     "ename": "TypeError",
     "evalue": "range expected at most 3 arguments, got 4",
     "output_type": "error",
     "traceback": [
      "\u001b[0;31m---------------------------------------------------------------------------\u001b[0m",
      "\u001b[0;31mTypeError\u001b[0m                                 Traceback (most recent call last)",
      "Cell \u001b[0;32mIn[18], line 3\u001b[0m\n\u001b[1;32m      1\u001b[0m \u001b[38;5;66;03m## without reversed function:\u001b[39;00m\n\u001b[1;32m      2\u001b[0m string\u001b[38;5;241m=\u001b[39m\u001b[38;5;124m\"\u001b[39m\u001b[38;5;124mHello world\u001b[39m\u001b[38;5;124m\"\u001b[39m\n\u001b[0;32m----> 3\u001b[0m \u001b[38;5;28;01mfor\u001b[39;00m i \u001b[38;5;129;01min\u001b[39;00m \u001b[38;5;28;43mrange\u001b[39;49m\u001b[43m(\u001b[49m\u001b[38;5;28;43mlen\u001b[39;49m\u001b[43m(\u001b[49m\u001b[43mstring\u001b[49m\u001b[43m)\u001b[49m\u001b[43m,\u001b[49m\u001b[38;5;241;43m-\u001b[39;49m\u001b[38;5;241;43m1\u001b[39;49m\u001b[43m,\u001b[49m\u001b[38;5;241;43m-\u001b[39;49m\u001b[38;5;241;43m1\u001b[39;49m\u001b[43m,\u001b[49m\u001b[38;5;241;43m-\u001b[39;49m\u001b[38;5;241;43m1\u001b[39;49m\u001b[43m)\u001b[49m:\n\u001b[1;32m      4\u001b[0m        \u001b[38;5;28mprint\u001b[39m(string[i])\n",
      "\u001b[0;31mTypeError\u001b[0m: range expected at most 3 arguments, got 4"
     ]
    }
   ],
   "source": [
    "## without reversed function:\n",
    "string=\"Hello world\"\n",
    "for i in range(len(string),-1,-1,-1):\n",
    "       print(string[i])"
   ]
  },
  {
   "cell_type": "code",
   "execution_count": 34,
   "id": "1bb314e5-e864-484c-a33c-f795bb33e85f",
   "metadata": {},
   "outputs": [
    {
     "name": "stdout",
     "output_type": "stream",
     "text": [
      "t\n",
      "o\n",
      "j\n",
      "n\n",
      "a\n",
      "M\n"
     ]
    }
   ],
   "source": [
    "## while function to reverse a string\n",
    "string=\"Manjot\"\n",
    "ch=len(string)-1\n",
    "while ch >=0:\n",
    "        print(string[ch])\n",
    "        ch-=1"
   ]
  },
  {
   "cell_type": "code",
   "execution_count": 37,
   "id": "c0eb383b-348d-4256-b5ee-b95850b8f1d2",
   "metadata": {},
   "outputs": [
    {
     "name": "stdout",
     "output_type": "stream",
     "text": [
      "t\n",
      "o\n",
      "j\n"
     ]
    }
   ],
   "source": [
    "string=\"jot\"\n",
    "ch=len(string)-1\n",
    "while ch >=0:\n",
    "        print(string[ch])\n",
    "        ch=ch-1"
   ]
  },
  {
   "cell_type": "code",
   "execution_count": 38,
   "id": "1176fa3a-5ed7-44db-a72d-9482c28aa705",
   "metadata": {},
   "outputs": [
    {
     "data": {
      "text/plain": [
       "-1"
      ]
     },
     "execution_count": 38,
     "metadata": {},
     "output_type": "execute_result"
    }
   ],
   "source": [
    "ch"
   ]
  },
  {
   "cell_type": "code",
   "execution_count": 42,
   "id": "fe2c3e31-e99a-43ae-9df2-c0dd2a597cd5",
   "metadata": {},
   "outputs": [
    {
     "data": {
      "text/plain": [
       "'j'"
      ]
     },
     "execution_count": 42,
     "metadata": {},
     "output_type": "execute_result"
    }
   ],
   "source": [
    "string[0]"
   ]
  },
  {
   "cell_type": "code",
   "execution_count": 55,
   "id": "395d4bf0-912e-4452-9721-45f174b328c1",
   "metadata": {},
   "outputs": [
    {
     "name": "stdout",
     "output_type": "stream",
     "text": [
      "nahsaJ"
     ]
    }
   ],
   "source": [
    "string=\"Jashan\"\n",
    "ch=len(string)-1\n",
    "while ch>=0:\n",
    "    print(string[ch],end=\"\")\n",
    "    ch-=1\n"
   ]
  },
  {
   "cell_type": "code",
   "execution_count": 54,
   "id": "2831a5c0-82cb-4428-b670-5b9e70a77164",
   "metadata": {},
   "outputs": [
    {
     "name": "stdout",
     "output_type": "stream",
     "text": [
      "['n', 'a', 'h', 's', 'a', 'J']\n"
     ]
    }
   ],
   "source": [
    "## so basically string is like this ...\n",
    "print([string[5],string[4],string[3],string[2],string[1],string[0]])"
   ]
  },
  {
   "cell_type": "code",
   "execution_count": 57,
   "id": "06ec2c64-e5a4-4046-8820-bba6f074e731",
   "metadata": {},
   "outputs": [
    {
     "name": "stdout",
     "output_type": "stream",
     "text": [
      "M, is not a vowel\n",
      "a is a vowel\n",
      "n, is not a vowel\n",
      "j, is not a vowel\n",
      "o is a vowel\n",
      "t, is not a vowel\n"
     ]
    }
   ],
   "source": [
    "name=\"Manjot\"\n",
    "vowels=\"AaiIEeOoUu\"\n",
    "\n",
    "for i in name:\n",
    "    if i in vowels:\n",
    "         print(\"{} is a vowel\".format(i))\n",
    "    else:\n",
    "        print(\"{}, is not a vowel\".format(i))"
   ]
  },
  {
   "cell_type": "code",
   "execution_count": 2,
   "id": "b0e32b80-f768-4aad-ac52-aec69f5486ed",
   "metadata": {},
   "outputs": [],
   "source": [
    "##1 make a program to count each element of string with index number\n",
    "##2 make a program to reserve a string using function with for loop\n",
    "##3 make a while program to reserve a string"
   ]
  },
  {
   "cell_type": "code",
   "execution_count": 6,
   "id": "0aba5d99-a2cd-485e-aba6-98c2c12688b8",
   "metadata": {},
   "outputs": [
    {
     "name": "stdin",
     "output_type": "stream",
     "text": [
      "Please enter a string to display every element and index number: Manjot\n"
     ]
    },
    {
     "name": "stdout",
     "output_type": "stream",
     "text": [
      "M 1\n",
      "a 2\n",
      "n 3\n",
      "j 4\n",
      "o 5\n",
      "t 6\n"
     ]
    }
   ],
   "source": [
    "string=input(\"Please enter a string to display every element and index number:\")\n",
    "count=0\n",
    "for i in string:\n",
    "        count+=1\n",
    "        print(i,count)\n",
    "        "
   ]
  },
  {
   "cell_type": "code",
   "execution_count": 9,
   "id": "c1cf427f-a5a1-443d-bf14-6bef5880282c",
   "metadata": {},
   "outputs": [
    {
     "name": "stdin",
     "output_type": "stream",
     "text": [
      "Please enter a string to reserve it with help of reserved () Manjot singh\n"
     ]
    },
    {
     "name": "stdout",
     "output_type": "stream",
     "text": [
      "h 1\n",
      "g 2\n",
      "n 3\n",
      "i 4\n",
      "s 5\n",
      "  6\n",
      "t 7\n",
      "o 8\n",
      "j 9\n",
      "n 10\n",
      "a 11\n",
      "M 12\n"
     ]
    }
   ],
   "source": [
    "string1=input(\"Please enter a string to reserve it with help of reserved ()\")\n",
    "count=0\n",
    "for i in reversed(string1):\n",
    "        count+=1\n",
    "        print(i,count)\n",
    "    "
   ]
  },
  {
   "cell_type": "code",
   "execution_count": 20,
   "id": "28a289d6-b6d4-4660-9d12-344875dea38a",
   "metadata": {},
   "outputs": [
    {
     "name": "stdin",
     "output_type": "stream",
     "text": [
      "Please enter a string to manually reverse it: Mankot\n"
     ]
    },
    {
     "name": "stdout",
     "output_type": "stream",
     "text": [
      "t\n",
      "o\n",
      "j\n",
      "n\n",
      "a\n",
      "M\n"
     ]
    }
   ],
   "source": [
    "string2=input(\"Please enter a string to manually reverse it:\")\n",
    "reverse=len(string2)-1\n",
    "while reverse>=0:\n",
    "        print(string[reverse])\n",
    "        reverse-=1"
   ]
  },
  {
   "cell_type": "markdown",
   "id": "a563c362-57c2-4561-a950-ab722267fa33",
   "metadata": {},
   "source": [
    "#### List "
   ]
  },
  {
   "cell_type": "code",
   "execution_count": 21,
   "id": "770754c3-68cd-43eb-8db7-5cfae13fda58",
   "metadata": {},
   "outputs": [
    {
     "data": {
      "text/plain": [
       "list"
      ]
     },
     "execution_count": 21,
     "metadata": {},
     "output_type": "execute_result"
    }
   ],
   "source": [
    "type([])"
   ]
  },
  {
   "cell_type": "code",
   "execution_count": 22,
   "id": "d151bac2-0769-43fe-87ab-ef21b3447d91",
   "metadata": {},
   "outputs": [
    {
     "data": {
      "text/plain": [
       "['M', 'a', 'n', 'k', 'o', 't']"
      ]
     },
     "execution_count": 22,
     "metadata": {},
     "output_type": "execute_result"
    }
   ],
   "source": [
    "list(string2)"
   ]
  },
  {
   "cell_type": "code",
   "execution_count": 32,
   "id": "373fd9b0-809c-44a2-819f-104383872927",
   "metadata": {},
   "outputs": [
    {
     "data": {
      "text/plain": [
       "['Pw ', 'kill Data ', 'cience Master']"
      ]
     },
     "execution_count": 32,
     "metadata": {},
     "output_type": "execute_result"
    }
   ],
   "source": [
    "string3=\"Pw Skill Data Science Master\"\n",
    "list(string3.split(\" \"))"
   ]
  },
  {
   "cell_type": "code",
   "execution_count": 33,
   "id": "f88ca299-f1b1-4a12-a486-c0e5ec075f68",
   "metadata": {},
   "outputs": [
    {
     "data": {
      "text/plain": [
       "['Pw', 'Skill', 'Data', 'Science', 'Master']"
      ]
     },
     "execution_count": 33,
     "metadata": {},
     "output_type": "execute_result"
    }
   ],
   "source": [
    "string3.split(\" \")"
   ]
  },
  {
   "cell_type": "code",
   "execution_count": 7,
   "id": "00ec1c68-d0fb-4f6b-9188-2cca114ba0fd",
   "metadata": {},
   "outputs": [
    {
     "ename": "NameError",
     "evalue": "name 'str1' is not defined",
     "output_type": "error",
     "traceback": [
      "\u001b[0;31m---------------------------------------------------------------------------\u001b[0m",
      "\u001b[0;31mNameError\u001b[0m                                 Traceback (most recent call last)",
      "Cell \u001b[0;32mIn[7], line 1\u001b[0m\n\u001b[0;32m----> 1\u001b[0m lst1\u001b[38;5;241m=\u001b[39m\u001b[43mstr1\u001b[49m\u001b[38;5;241m.\u001b[39msplit(\u001b[38;5;124m\"\u001b[39m\u001b[38;5;124m \u001b[39m\u001b[38;5;124m\"\u001b[39m)\n\u001b[1;32m      2\u001b[0m \u001b[38;5;28mprint\u001b[39m(lst)\n",
      "\u001b[0;31mNameError\u001b[0m: name 'str1' is not defined"
     ]
    }
   ],
   "source": [
    "lst1=str1.split(\" \")\n",
    "print(lst)"
   ]
  },
  {
   "cell_type": "code",
   "execution_count": 16,
   "id": "7eed3c12-d14b-42fe-bd71-6a842b5a566a",
   "metadata": {},
   "outputs": [],
   "source": [
    "name= \"pw skills data science masters\"\n",
    "lst1=name.split()"
   ]
  },
  {
   "cell_type": "code",
   "execution_count": 18,
   "id": "bc330495-4c68-4d55-acf5-63cdce4a8274",
   "metadata": {},
   "outputs": [
    {
     "data": {
      "text/plain": [
       "'science'"
      ]
     },
     "execution_count": 18,
     "metadata": {},
     "output_type": "execute_result"
    }
   ],
   "source": [
    "lst1[3]"
   ]
  },
  {
   "cell_type": "code",
   "execution_count": 11,
   "id": "d0de3ebc-dbde-41d1-9e9a-99b79ad074c9",
   "metadata": {},
   "outputs": [],
   "source": [
    "string1=\"Pw skills Data Science Masters\"\n",
    "lst1=list(string1.split(\" \"))"
   ]
  },
  {
   "cell_type": "code",
   "execution_count": 12,
   "id": "3991dd53-0768-4ccc-9818-75f1531c528b",
   "metadata": {},
   "outputs": [
    {
     "name": "stdout",
     "output_type": "stream",
     "text": [
      "['Pw', 'skills', 'Data', 'Science', 'Masters']\n"
     ]
    }
   ],
   "source": [
    "print(lst1)"
   ]
  },
  {
   "cell_type": "code",
   "execution_count": 13,
   "id": "964a7691-c72a-43f8-a02d-40c9f72197a8",
   "metadata": {},
   "outputs": [
    {
     "data": {
      "text/plain": [
       "'skills'"
      ]
     },
     "execution_count": 13,
     "metadata": {},
     "output_type": "execute_result"
    }
   ],
   "source": [
    "lst1[1]"
   ]
  },
  {
   "cell_type": "code",
   "execution_count": 19,
   "id": "d0dd1c58-2a88-4f33-8f38-5f26ed704cd3",
   "metadata": {},
   "outputs": [
    {
     "name": "stdout",
     "output_type": "stream",
     "text": [
      "DataS\n"
     ]
    }
   ],
   "source": [
    "## this is mutable\n",
    "lst1[2]\n",
    "lst1[2]=\"DataS\"\n",
    "print(lst1[2])"
   ]
  },
  {
   "cell_type": "code",
   "execution_count": 21,
   "id": "ec61f513-0bd7-4a47-a427-1755ea63348c",
   "metadata": {},
   "outputs": [
    {
     "name": "stdout",
     "output_type": "stream",
     "text": [
      "['Pw', 'skills', 'DataS', 'Science', 'Masters']\n"
     ]
    }
   ],
   "source": [
    "## this proves it is mutbale \n",
    "print(lst1)"
   ]
  },
  {
   "cell_type": "code",
   "execution_count": 22,
   "id": "0d0ed25b-a8a3-4324-9f5d-3ff67ed671b2",
   "metadata": {},
   "outputs": [
    {
     "data": {
      "text/plain": [
       "'Science'"
      ]
     },
     "execution_count": 22,
     "metadata": {},
     "output_type": "execute_result"
    }
   ],
   "source": [
    "lst1[-2]"
   ]
  },
  {
   "cell_type": "code",
   "execution_count": 32,
   "id": "8c96470a-6eef-4d03-a37a-cbf06fe5acc0",
   "metadata": {},
   "outputs": [
    {
     "data": {
      "text/plain": [
       "['Masters', 'Science', 'DataS', 'skills', 'Pw']"
      ]
     },
     "execution_count": 32,
     "metadata": {},
     "output_type": "execute_result"
    }
   ],
   "source": [
    "lst1[::-1]"
   ]
  },
  {
   "cell_type": "code",
   "execution_count": 33,
   "id": "28d30881-96bd-4bd0-b93b-bb51b4dd8232",
   "metadata": {},
   "outputs": [
    {
     "data": {
      "text/plain": [
       "['Pw', 'DataS', 'Masters']"
      ]
     },
     "execution_count": 33,
     "metadata": {},
     "output_type": "execute_result"
    }
   ],
   "source": [
    "lst1[::2]"
   ]
  },
  {
   "cell_type": "code",
   "execution_count": 36,
   "id": "0555884e-e23d-4f62-bc16-3865954985e3",
   "metadata": {},
   "outputs": [
    {
     "data": {
      "text/plain": [
       "['skills']"
      ]
     },
     "execution_count": 36,
     "metadata": {},
     "output_type": "execute_result"
    }
   ],
   "source": [
    "lst1[-4::-2]"
   ]
  },
  {
   "cell_type": "code",
   "execution_count": 39,
   "id": "c4fe7d90-b3db-4840-8a0d-7ddb3d0413c3",
   "metadata": {},
   "outputs": [
    {
     "data": {
      "text/plain": [
       "['Pw']"
      ]
     },
     "execution_count": 39,
     "metadata": {},
     "output_type": "execute_result"
    }
   ],
   "source": [
    "## print PW \n",
    "lst1[-5::-2]"
   ]
  },
  {
   "cell_type": "code",
   "execution_count": 45,
   "id": "d3806070-266b-48a4-8da3-f533dc8adc69",
   "metadata": {},
   "outputs": [
    {
     "data": {
      "text/plain": [
       "['Pw', 'skills', 'DataS']"
      ]
     },
     "execution_count": 45,
     "metadata": {},
     "output_type": "execute_result"
    }
   ],
   "source": [
    "lst1[-5:3:]"
   ]
  },
  {
   "cell_type": "code",
   "execution_count": 51,
   "id": "4ea35d67-e072-48b7-aa5d-e6c975d4ab67",
   "metadata": {},
   "outputs": [
    {
     "data": {
      "text/plain": [
       "['Pw', 'skills', 'DataS']"
      ]
     },
     "execution_count": 51,
     "metadata": {},
     "output_type": "execute_result"
    }
   ],
   "source": [
    "lst1[-5:3:]"
   ]
  },
  {
   "cell_type": "code",
   "execution_count": 48,
   "id": "dfbc70b4-07eb-4374-b193-c015249c040f",
   "metadata": {},
   "outputs": [
    {
     "data": {
      "text/plain": [
       "['Pw', 'skills', 'DataS', 'Science', 'Masters']"
      ]
     },
     "execution_count": 48,
     "metadata": {},
     "output_type": "execute_result"
    }
   ],
   "source": [
    "lst1"
   ]
  },
  {
   "cell_type": "code",
   "execution_count": 56,
   "id": "4da54fdc-871b-48aa-8a7b-960d8af94f44",
   "metadata": {},
   "outputs": [
    {
     "ename": "TypeError",
     "evalue": "can only concatenate list (not \"int\") to list",
     "output_type": "error",
     "traceback": [
      "\u001b[0;31m---------------------------------------------------------------------------\u001b[0m",
      "\u001b[0;31mTypeError\u001b[0m                                 Traceback (most recent call last)",
      "Cell \u001b[0;32mIn[56], line 1\u001b[0m\n\u001b[0;32m----> 1\u001b[0m \u001b[43mlst1\u001b[49m\u001b[38;5;241;43m+\u001b[39;49m\u001b[38;5;241;43m1\u001b[39;49m\n",
      "\u001b[0;31mTypeError\u001b[0m: can only concatenate list (not \"int\") to list"
     ]
    }
   ],
   "source": [
    "## Concatenation in list \n",
    "lst1+1"
   ]
  },
  {
   "cell_type": "code",
   "execution_count": 82,
   "id": "f76e278e-052d-4353-8609-d619d3254327",
   "metadata": {},
   "outputs": [
    {
     "data": {
      "text/plain": [
       "['Pw', 'skills', 'DataS', 'Science', 'Masters', 'new element', 3, 'C++', 5]"
      ]
     },
     "execution_count": 82,
     "metadata": {},
     "output_type": "execute_result"
    }
   ],
   "source": [
    "## adding new element of list \n",
    "lst1+['new element',3,\"C++\",5]"
   ]
  },
  {
   "cell_type": "code",
   "execution_count": 2,
   "id": "375d926b-a5d4-4513-892b-7ba4224a014a",
   "metadata": {},
   "outputs": [
    {
     "ename": "NameError",
     "evalue": "name 'lst1' is not defined",
     "output_type": "error",
     "traceback": [
      "\u001b[0;31m---------------------------------------------------------------------------\u001b[0m",
      "\u001b[0;31mNameError\u001b[0m                                 Traceback (most recent call last)",
      "Cell \u001b[0;32mIn[2], line 2\u001b[0m\n\u001b[1;32m      1\u001b[0m \u001b[38;5;66;03m## adding multi nested list\u001b[39;00m\n\u001b[0;32m----> 2\u001b[0m lst2\u001b[38;5;241m=\u001b[39m\u001b[43mlst1\u001b[49m \u001b[38;5;241m+\u001b[39m [[\u001b[38;5;124m\"\u001b[39m\u001b[38;5;124mHello\u001b[39m\u001b[38;5;124m\"\u001b[39m,\u001b[38;5;124m\"\u001b[39m\u001b[38;5;124mEarth\u001b[39m\u001b[38;5;124m\"\u001b[39m,\u001b[38;5;124m\"\u001b[39m\u001b[38;5;124mMars\u001b[39m\u001b[38;5;124m\"\u001b[39m]]\n",
      "\u001b[0;31mNameError\u001b[0m: name 'lst1' is not defined"
     ]
    }
   ],
   "source": [
    "## adding multi nested list\n",
    "lst2=lst1 + [[\"Hello\",\"Earth\",\"Mars\"]]"
   ]
  },
  {
   "cell_type": "code",
   "execution_count": 84,
   "id": "40d2d144-96ad-4702-8cbe-923851110aa4",
   "metadata": {},
   "outputs": [
    {
     "name": "stdout",
     "output_type": "stream",
     "text": [
      "['Pw', 'skills', 'DataS', 'Science', 'Masters', ['Hello', 'Earth', 'Mars']]\n"
     ]
    }
   ],
   "source": [
    "print(lst2)"
   ]
  },
  {
   "cell_type": "code",
   "execution_count": 96,
   "id": "bf70f1d4-5c28-4df2-a0c9-ac88da30b424",
   "metadata": {},
   "outputs": [
    {
     "data": {
      "text/plain": [
       "'Mars'"
      ]
     },
     "execution_count": 96,
     "metadata": {},
     "output_type": "execute_result"
    }
   ],
   "source": [
    "lst2[-1][2]"
   ]
  },
  {
   "cell_type": "code",
   "execution_count": 100,
   "id": "dff8a5b0-eed4-4d5b-ac26-bc719a8d5def",
   "metadata": {},
   "outputs": [
    {
     "data": {
      "text/plain": [
       "'Mars'"
      ]
     },
     "execution_count": 100,
     "metadata": {},
     "output_type": "execute_result"
    }
   ],
   "source": [
    "lst2[5][2]"
   ]
  },
  {
   "cell_type": "code",
   "execution_count": 22,
   "id": "4537433f-1dba-4194-a021-aa88fbd93096",
   "metadata": {},
   "outputs": [
    {
     "data": {
      "text/plain": [
       "['Pw', 'skills', 'data', 'science', 'course']"
      ]
     },
     "execution_count": 22,
     "metadata": {},
     "output_type": "execute_result"
    }
   ],
   "source": [
    "string=\"Pw skills data science course\"\n",
    "list1=string.split(\" \")\n",
    "list1"
   ]
  },
  {
   "cell_type": "code",
   "execution_count": 37,
   "id": "08e371db-979e-4c2f-8dc9-2b8eb186bdba",
   "metadata": {},
   "outputs": [
    {
     "data": {
      "text/plain": [
       "['Pw',\n",
       " 'skills',\n",
       " 'data',\n",
       " 'science',\n",
       " 'course',\n",
       " 'Pw',\n",
       " 'skills',\n",
       " 'data',\n",
       " 'science',\n",
       " 'course']"
      ]
     },
     "execution_count": 37,
     "metadata": {},
     "output_type": "execute_result"
    }
   ],
   "source": [
    "## concatenation \n",
    "list1"
   ]
  },
  {
   "cell_type": "code",
   "execution_count": 35,
   "id": "e9e77840-9baa-4245-8f6c-8118be09482e",
   "metadata": {},
   "outputs": [
    {
     "name": "stdout",
     "output_type": "stream",
     "text": [
      "['Pw', 'skills', 'data', 'science', 'course', 'Pw', 'skills', 'data', 'science', 'course']\n"
     ]
    }
   ],
   "source": [
    "print(list1)"
   ]
  },
  {
   "cell_type": "code",
   "execution_count": 42,
   "id": "f772af11-5c24-4f39-b35d-18b0fdc3881f",
   "metadata": {},
   "outputs": [
    {
     "name": "stdout",
     "output_type": "stream",
     "text": [
      "['Pw', 'skills', 'data', 'science', 'masters', 'course']\n"
     ]
    }
   ],
   "source": [
    "string2=\"Pw skills data science masters course\"\n",
    "list2=string2.split(\" \")\n",
    "print(list2)\n",
    " "
   ]
  },
  {
   "cell_type": "code",
   "execution_count": 58,
   "id": "7c08f12f-2492-48a1-8c79-58380f544f35",
   "metadata": {},
   "outputs": [
    {
     "name": "stdout",
     "output_type": "stream",
     "text": [
      "present sir\n"
     ]
    }
   ],
   "source": [
    "## if you know the strings \n",
    "if \"science\" in list2:\n",
    "     print(\"present sir\")"
   ]
  },
  {
   "cell_type": "code",
   "execution_count": 77,
   "id": "1227311e-afe3-4c88-8649-ccf4415a83cf",
   "metadata": {},
   "outputs": [
    {
     "name": "stdout",
     "output_type": "stream",
     "text": [
      "science\n"
     ]
    }
   ],
   "source": [
    "## nice you are done \n",
    "for i in list2:\n",
    "    if i==\"science\":\n",
    "        print(i)\n",
    "        break"
   ]
  },
  {
   "cell_type": "code",
   "execution_count": 80,
   "id": "be3ff33b-57ed-4d8b-afbe-a445295dc4b3",
   "metadata": {},
   "outputs": [
    {
     "name": "stdout",
     "output_type": "stream",
     "text": [
      "data :You got it\n"
     ]
    }
   ],
   "source": [
    "## if you don't know the strings\n",
    "for elements in list2:\n",
    "    if elements==\"data\":\n",
    "        print(\"{} :You got it\".format(elements))\n",
    "        break"
   ]
  },
  {
   "cell_type": "code",
   "execution_count": 87,
   "id": "9622cf42-6734-49a6-89a1-80579e4dced6",
   "metadata": {},
   "outputs": [
    {
     "name": "stdout",
     "output_type": "stream",
     "text": [
      "yellow\n"
     ]
    }
   ],
   "source": [
    "### check elements inside a list\n",
    "list3=[1,2,3,4]\n",
    "if 4 in list3:\n",
    "    print(\"yellow\")"
   ]
  },
  {
   "cell_type": "code",
   "execution_count": 88,
   "id": "fce53149-644f-45bb-b079-95496c3cb6d1",
   "metadata": {},
   "outputs": [
    {
     "data": {
      "text/plain": [
       "False"
      ]
     },
     "execution_count": 88,
     "metadata": {},
     "output_type": "execute_result"
    }
   ],
   "source": [
    "5 in list3"
   ]
  },
  {
   "cell_type": "code",
   "execution_count": 89,
   "id": "18149f45-fd6b-41e8-a6e5-500bc79c22ff",
   "metadata": {},
   "outputs": [
    {
     "data": {
      "text/plain": [
       "True"
      ]
     },
     "execution_count": 89,
     "metadata": {},
     "output_type": "execute_result"
    }
   ],
   "source": [
    "4 in list3"
   ]
  },
  {
   "cell_type": "code",
   "execution_count": 91,
   "id": "8a115f1b-1a73-4adf-b045-491ccced4792",
   "metadata": {},
   "outputs": [
    {
     "data": {
      "text/plain": [
       "True"
      ]
     },
     "execution_count": 91,
     "metadata": {},
     "output_type": "execute_result"
    }
   ],
   "source": [
    "4.00 in list3"
   ]
  },
  {
   "cell_type": "code",
   "execution_count": 93,
   "id": "3597cdc7-07f1-4f2a-8e0e-f4fcf22096a5",
   "metadata": {},
   "outputs": [],
   "source": [
    "lst1=[\"Zebra\",\"Moneky\",\"Donkey\",\"Lion\"]\n",
    "lst2=[5,6,2,9,5,8,6]"
   ]
  },
  {
   "cell_type": "code",
   "execution_count": 97,
   "id": "9bcc1aa1-2c89-414a-887d-19af3dfe21e2",
   "metadata": {},
   "outputs": [
    {
     "name": "stdout",
     "output_type": "stream",
     "text": [
      "Zebra\n",
      "9\n"
     ]
    }
   ],
   "source": [
    "print(max(lst1))\n",
    "print(max(lst2))"
   ]
  },
  {
   "cell_type": "code",
   "execution_count": 96,
   "id": "909d40ab-0263-4dc9-ba6c-8084412bed43",
   "metadata": {},
   "outputs": [
    {
     "name": "stdout",
     "output_type": "stream",
     "text": [
      "Donkey\n",
      "2\n"
     ]
    }
   ],
   "source": [
    "print(min(lst1))\n",
    "print(min(lst2))"
   ]
  },
  {
   "cell_type": "code",
   "execution_count": 2,
   "id": "4b3c229d-52fe-4535-ad87-3123438ac407",
   "metadata": {},
   "outputs": [
    {
     "data": {
      "text/plain": [
       "['HELLO', 'EVERYONE', 'ANIMALS,', 'DOGS', 'AND']"
      ]
     },
     "execution_count": 2,
     "metadata": {},
     "output_type": "execute_result"
    }
   ],
   "source": [
    "## append update the list\n",
    "string=\"HELLO EVERYONE ANIMALS, DOGS AND\"\n",
    "list5=string.split(\" \")\n",
    "list5"
   ]
  },
  {
   "cell_type": "code",
   "execution_count": 3,
   "id": "ae8b13dd-4a1d-4939-93de-faee2031d5c1",
   "metadata": {},
   "outputs": [
    {
     "data": {
      "text/plain": [
       "['HELLO', 'EVERYONE', 'ANIMALS,', 'DOGS', 'AND', 'HUMANS']"
      ]
     },
     "execution_count": 3,
     "metadata": {},
     "output_type": "execute_result"
    }
   ],
   "source": [
    "list5.append(\"HUMANS\")\n",
    "list5\n"
   ]
  },
  {
   "cell_type": "code",
   "execution_count": 9,
   "id": "3b051462-f61c-40a0-88f3-b061592b8bad",
   "metadata": {},
   "outputs": [
    {
     "name": "stdout",
     "output_type": "stream",
     "text": [
      "['HELLO', 'EVERYONE', 'ANIMALS,', 'DOGS', 'AND', 'HUMANS', ['ALIENS AND WHOLE UNIVERSE'], ['ALIENS AND WHOLE UNIVERSE'], ['ALIENS AND WHOLE UNIVERSE'], ['ALIENS AND WHOLE UNIVERSE']]\n"
     ]
    }
   ],
   "source": [
    "## nested list with appned update list\n",
    "list5.append([\"ALIENS AND WHOLE UNIVERSE\"])\n",
    "print(list5)"
   ]
  },
  {
   "cell_type": "code",
   "execution_count": 14,
   "id": "8a10a99a-a315-4a76-933e-b81494d3e24b",
   "metadata": {},
   "outputs": [
    {
     "data": {
      "text/plain": [
       "['Manjot', 'Singh', 'DHINDSA', 'FROM', 'BIAS', 'PIND']"
      ]
     },
     "execution_count": 14,
     "metadata": {},
     "output_type": "execute_result"
    }
   ],
   "source": [
    "## pop removes last element\n",
    "string22=\"Manjot Singh DHINDSA FROM BIAS PIND\"\n",
    "LIST1=string22.split(\" \")\n",
    "LIST1"
   ]
  },
  {
   "cell_type": "code",
   "execution_count": 28,
   "id": "65f109cd-0129-46cc-bffc-eb3ba5a98f7d",
   "metadata": {},
   "outputs": [
    {
     "data": {
      "text/plain": [
       "'Manjot'"
      ]
     },
     "execution_count": 28,
     "metadata": {},
     "output_type": "execute_result"
    }
   ],
   "source": [
    "removed=LIST1.pop()\n",
    "removed"
   ]
  },
  {
   "cell_type": "code",
   "execution_count": 16,
   "id": "d68f3736-716a-40a3-b111-fb005f7df9a0",
   "metadata": {},
   "outputs": [
    {
     "data": {
      "text/plain": [
       "['Manjot', 'Singh', 'DHINDSA', 'FROM', 'BIAS']"
      ]
     },
     "execution_count": 16,
     "metadata": {},
     "output_type": "execute_result"
    }
   ],
   "source": [
    "LIST1"
   ]
  },
  {
   "cell_type": "code",
   "execution_count": 21,
   "id": "35f6ab4b-aa60-490b-8e52-b07671bfba46",
   "metadata": {},
   "outputs": [
    {
     "data": {
      "text/plain": [
       "'BIAS'"
      ]
     },
     "execution_count": 21,
     "metadata": {},
     "output_type": "execute_result"
    }
   ],
   "source": [
    "removed_element=LIST1.pop(2)\n",
    "removed_element"
   ]
  },
  {
   "cell_type": "code",
   "execution_count": 29,
   "id": "524b9b34-0d39-4e0e-bcff-cb826807bbba",
   "metadata": {},
   "outputs": [
    {
     "data": {
      "text/plain": [
       "['BIAS', 'Manjot']"
      ]
     },
     "execution_count": 29,
     "metadata": {},
     "output_type": "execute_result"
    }
   ],
   "source": [
    "LIST1 + [removed_element, removed]"
   ]
  },
  {
   "cell_type": "code",
   "execution_count": 39,
   "id": "212c678c-eb28-4a17-803d-86550019fa0d",
   "metadata": {},
   "outputs": [],
   "source": [
    "## searching and sorting in list\n",
    "new_list=['q','e','f','s','t']\n"
   ]
  },
  {
   "cell_type": "code",
   "execution_count": 45,
   "id": "4cd25ecc-b0b5-4e33-ad24-4129649e247c",
   "metadata": {},
   "outputs": [
    {
     "data": {
      "text/plain": [
       "['t', 's', 'f', 'e', 'q']"
      ]
     },
     "execution_count": 45,
     "metadata": {},
     "output_type": "execute_result"
    }
   ],
   "source": [
    "## this is inplace operation \n",
    "new_list.reverse()\n",
    "new_list"
   ]
  },
  {
   "cell_type": "code",
   "execution_count": 65,
   "id": "e3f8e0fa-9a9e-4e37-9915-f6df01dbce06",
   "metadata": {},
   "outputs": [
    {
     "data": {
      "text/plain": [
       "['t', 's', 'q', 'f', 'e']"
      ]
     },
     "execution_count": 65,
     "metadata": {},
     "output_type": "execute_result"
    }
   ],
   "source": [
    "## sorting  it by all elements in ascending order  and desceding order \n",
    "new_list.sort(reverse=True)\n",
    "new_list"
   ]
  },
  {
   "cell_type": "code",
   "execution_count": 51,
   "id": "9f58e6dc-1852-41e1-8f4e-3f7462a42f38",
   "metadata": {},
   "outputs": [
    {
     "data": {
      "text/plain": [
       "['e', 'f', 'q', 's', 't']"
      ]
     },
     "execution_count": 51,
     "metadata": {},
     "output_type": "execute_result"
    }
   ],
   "source": [
    "new_list"
   ]
  },
  {
   "cell_type": "code",
   "execution_count": null,
   "id": "e5a1dfe4-4482-471a-9d8f-f9d889949513",
   "metadata": {},
   "outputs": [],
   "source": [
    "# for desceding order\n",
    "new_list.sort(re"
   ]
  },
  {
   "cell_type": "code",
   "execution_count": 54,
   "id": "04abc81f-361c-4097-a489-16c595479e25",
   "metadata": {},
   "outputs": [
    {
     "data": {
      "text/plain": [
       "[1, 2, 4, 5, 6, 0]"
      ]
     },
     "execution_count": 54,
     "metadata": {},
     "output_type": "execute_result"
    }
   ],
   "source": [
    "## extend: when you have add more than one element than by default you get nested list, if don't\n",
    "## want to get that use .extened()\n",
    "## see this example\n",
    "oldlist=[1,2,4,5,6,0]\n",
    "oldlist"
   ]
  },
  {
   "cell_type": "code",
   "execution_count": 55,
   "id": "019de9f3-5fd7-49a2-a3af-1e45584d5dc6",
   "metadata": {},
   "outputs": [],
   "source": [
    "oldlist.append(10)"
   ]
  },
  {
   "cell_type": "code",
   "execution_count": 56,
   "id": "29771d0b-499c-439c-b75b-ff790680e5bf",
   "metadata": {},
   "outputs": [
    {
     "data": {
      "text/plain": [
       "[1, 2, 4, 5, 6, 0, 10]"
      ]
     },
     "execution_count": 56,
     "metadata": {},
     "output_type": "execute_result"
    }
   ],
   "source": [
    "oldlist"
   ]
  },
  {
   "cell_type": "code",
   "execution_count": 62,
   "id": "ae971e46-4606-45cf-8665-9312e14e129f",
   "metadata": {},
   "outputs": [
    {
     "data": {
      "text/plain": [
       "[1, 2, 4, 5, 6, 0, 10, ['PW', 'SKILLS'], ['PW', 'SKILLS']]"
      ]
     },
     "execution_count": 62,
     "metadata": {},
     "output_type": "execute_result"
    }
   ],
   "source": [
    "oldlist.append([\"PW\" , \"SKILLS\"])\n",
    "oldlist"
   ]
  },
  {
   "cell_type": "code",
   "execution_count": 63,
   "id": "95128b2d-1eeb-4cc2-b64c-c2e702cb7c17",
   "metadata": {},
   "outputs": [
    {
     "data": {
      "text/plain": [
       "[1, 2, 4, 5, 6, 0, 10, ['PW', 'SKILLS'], ['PW', 'SKILLS'], 'PW', 'SKILLS']"
      ]
     },
     "execution_count": 63,
     "metadata": {},
     "output_type": "execute_result"
    }
   ],
   "source": [
    "## here comes extend\n",
    "oldlist.extend([\"PW\" , \"SKILLS\"])\n",
    "oldlist"
   ]
  },
  {
   "cell_type": "markdown",
   "id": "d33c79cf-0882-4a06-811e-bdd5d491cff2",
   "metadata": {},
   "source": [
    "## nested list"
   ]
  },
  {
   "cell_type": "code",
   "execution_count": 66,
   "id": "0929fcba-92be-457e-bd0f-10c50997db1c",
   "metadata": {},
   "outputs": [],
   "source": [
    "lst_1=[1,2,3]\n",
    "lst_2=[4,5,6]\n",
    "lst_3=[7,8,9]\n",
    "\n",
    "# make a list of list to form a matrix\n",
    "matrix=[lst_1,lst_2,lst_3]"
   ]
  },
  {
   "cell_type": "code",
   "execution_count": 67,
   "id": "16209a30-5441-4a22-8077-33c39f3af0d1",
   "metadata": {},
   "outputs": [
    {
     "name": "stdout",
     "output_type": "stream",
     "text": [
      "[[1, 2, 3], [4, 5, 6], [7, 8, 9]]\n"
     ]
    }
   ],
   "source": [
    "## matrix\n",
    "print(matrix)"
   ]
  },
  {
   "cell_type": "code",
   "execution_count": 68,
   "id": "ece18891-cca0-4d1b-aad4-7860bcbe6b76",
   "metadata": {},
   "outputs": [
    {
     "data": {
      "text/plain": [
       "6"
      ]
     },
     "execution_count": 68,
     "metadata": {},
     "output_type": "execute_result"
    }
   ],
   "source": [
    "## now tell me how to six value\n",
    "matrix[1][2]"
   ]
  },
  {
   "cell_type": "code",
   "execution_count": 69,
   "id": "e9398e6e-9035-47e7-afdf-c7922a07f7f2",
   "metadata": {},
   "outputs": [
    {
     "data": {
      "text/plain": [
       "6"
      ]
     },
     "execution_count": 69,
     "metadata": {},
     "output_type": "execute_result"
    }
   ],
   "source": [
    "matrix[-2][2]"
   ]
  },
  {
   "cell_type": "code",
   "execution_count": 73,
   "id": "1dfa26dd-351c-4dfa-9a22-6d6e0fedccb4",
   "metadata": {},
   "outputs": [
    {
     "data": {
      "text/plain": [
       "[8, 9]"
      ]
     },
     "execution_count": 73,
     "metadata": {},
     "output_type": "execute_result"
    }
   ],
   "source": [
    "## 9\n",
    "matrix[2][1:]"
   ]
  },
  {
   "cell_type": "code",
   "execution_count": 84,
   "id": "d795c93b-07c6-4e07-9b59-b348d3cacadc",
   "metadata": {},
   "outputs": [
    {
     "data": {
      "text/plain": [
       "[[1, 2, 3]]"
      ]
     },
     "execution_count": 84,
     "metadata": {},
     "output_type": "execute_result"
    }
   ],
   "source": [
    "matrix[0:1]"
   ]
  },
  {
   "cell_type": "markdown",
   "id": "5278fe8f-46a3-4d7b-8f4e-78c631f217db",
   "metadata": {},
   "source": [
    "## list comprehension"
   ]
  },
  {
   "cell_type": "code",
   "execution_count": 2,
   "id": "aafec9da-3d36-46aa-8ac3-294911e74394",
   "metadata": {},
   "outputs": [
    {
     "data": {
      "text/plain": [
       "[0, 1, 2, 3, 4, 5, 6, 7, 8, 9, 10, 11, 12, 13, 14, 15, 16, 17, 18, 19]"
      ]
     },
     "execution_count": 2,
     "metadata": {},
     "output_type": "execute_result"
    }
   ],
   "source": [
    "[i for i in range(20)]"
   ]
  },
  {
   "cell_type": "code",
   "execution_count": 5,
   "id": "7c5479cf-aa76-4591-9530-c0f0599dc0d8",
   "metadata": {},
   "outputs": [
    {
     "data": {
      "text/plain": [
       "[0,\n",
       " 'Odd',\n",
       " 2,\n",
       " 'Odd',\n",
       " 4,\n",
       " 'Odd',\n",
       " 6,\n",
       " 'Odd',\n",
       " 8,\n",
       " 'Odd',\n",
       " 10,\n",
       " 'Odd',\n",
       " 12,\n",
       " 'Odd',\n",
       " 14,\n",
       " 'Odd',\n",
       " 16,\n",
       " 'Odd',\n",
       " 18,\n",
       " 'Odd']"
      ]
     },
     "execution_count": 5,
     "metadata": {},
     "output_type": "execute_result"
    }
   ],
   "source": [
    "## using list comprehension print even number and display odd on odd numbers\n",
    "[i if i%2==0 else \"Odd\" for i in range(20)]"
   ]
  },
  {
   "cell_type": "code",
   "execution_count": 6,
   "id": "3a9fd4f5-4afe-4e9b-a1dc-1b903296cf6f",
   "metadata": {},
   "outputs": [
    {
     "data": {
      "text/plain": [
       "['even',\n",
       " 1,\n",
       " 'even',\n",
       " 3,\n",
       " 'even',\n",
       " 5,\n",
       " 'even',\n",
       " 7,\n",
       " 'even',\n",
       " 9,\n",
       " 'even',\n",
       " 11,\n",
       " 'even',\n",
       " 13,\n",
       " 'even',\n",
       " 15,\n",
       " 'even',\n",
       " 17,\n",
       " 'even',\n",
       " 19]"
      ]
     },
     "execution_count": 6,
     "metadata": {},
     "output_type": "execute_result"
    }
   ],
   "source": [
    "[i if i%2!=0 else \"even\" for i in range(20)]"
   ]
  },
  {
   "cell_type": "code",
   "execution_count": 30,
   "id": "271d2aad-4d39-461a-9c42-7b85aa4181bb",
   "metadata": {},
   "outputs": [
    {
     "name": "stdout",
     "output_type": "stream",
     "text": [
      "30\n",
      "25\n"
     ]
    }
   ],
   "source": [
    "## Assignment using list comprehension\n",
    "## sum of even and odd numbers\n",
    "LIST=[1,2,3,4,5,6,7,8,9,10]\n",
    "even=0\n",
    "odd=0\n",
    "for i in LIST:\n",
    "    if i %2==0:\n",
    "        even+=i\n",
    "    else:\n",
    "        odd+=i\n",
    "print(even)\n",
    "print(odd)"
   ]
  },
  {
   "cell_type": "code",
   "execution_count": 41,
   "id": "128b7e45-5026-4c18-90fc-2267eb893eb8",
   "metadata": {},
   "outputs": [
    {
     "name": "stdout",
     "output_type": "stream",
     "text": [
      "30 The sum of even number\n",
      "25 The sum of odd number\n"
     ]
    }
   ],
   "source": [
    "## list comnprehension \n",
    "## print sum of even and odd\n",
    "even_sum=sum([num for num in LIST if num %2==0])\n",
    "odd_sum=sum([num for num in LIST if num%2 !=0])\n",
    "print(\"{} The sum of even number\".format(even_sum))\n",
    "print(\"{} The sum of odd number\".format(odd_sum))\n"
   ]
  },
  {
   "cell_type": "code",
   "execution_count": 45,
   "id": "04a75a6c-8fed-43fd-80d5-bc1267972ad5",
   "metadata": {},
   "outputs": [
    {
     "data": {
      "text/plain": [
       "[1, 2, 3, 4, 5, 6, 7, 8, 9, 10]"
      ]
     },
     "execution_count": 45,
     "metadata": {},
     "output_type": "execute_result"
    }
   ],
   "source": [
    "LIST"
   ]
  },
  {
   "cell_type": "code",
   "execution_count": 59,
   "id": "40a51018-69c0-4d87-a2e1-9d71c19e247b",
   "metadata": {},
   "outputs": [
    {
     "data": {
      "text/plain": [
       "[1, 4, 9, 16, 25, 36, 49, 64, 81, 100]"
      ]
     },
     "execution_count": 59,
     "metadata": {},
     "output_type": "execute_result"
    }
   ],
   "source": [
    "## list comprehension\n",
    "[num**2 for num in LIST]"
   ]
  },
  {
   "cell_type": "code",
   "execution_count": 64,
   "id": "0e064830-af0b-44b0-931d-32457ebee20f",
   "metadata": {},
   "outputs": [
    {
     "data": {
      "text/plain": [
       "['The neg num', 'The neg num', 0, 1, 2, 3, 4]"
      ]
     },
     "execution_count": 64,
     "metadata": {},
     "output_type": "execute_result"
    }
   ],
   "source": [
    "number=[-2,-1,0,1,2,3,4]\n",
    "[num if num>=0 else \"The neg num\" for num in number ]"
   ]
  },
  {
   "cell_type": "code",
   "execution_count": 67,
   "id": "f244a21b-3811-454d-9329-954fb031dc80",
   "metadata": {},
   "outputs": [],
   "source": [
    "number=[-2,-1,0,1,2,3.4]\n",
    "possum=sum([num for num in number if num>=0 ])"
   ]
  },
  {
   "cell_type": "code",
   "execution_count": 68,
   "id": "bb2b430b-6de0-4cd9-859f-eaa30f11583b",
   "metadata": {},
   "outputs": [
    {
     "data": {
      "text/plain": [
       "6.4"
      ]
     },
     "execution_count": 68,
     "metadata": {},
     "output_type": "execute_result"
    }
   ],
   "source": [
    "possum"
   ]
  },
  {
   "cell_type": "code",
   "execution_count": 69,
   "id": "9328aadc-d964-4a45-a9e3-18460b82c82c",
   "metadata": {},
   "outputs": [
    {
     "data": {
      "text/plain": [
       "[0, 1, 2, 3.4]"
      ]
     },
     "execution_count": 69,
     "metadata": {},
     "output_type": "execute_result"
    }
   ],
   "source": [
    "number=[-2,-1,0,1,2,3.4]\n",
    "[num for num in number if num>=0]"
   ]
  },
  {
   "cell_type": "code",
   "execution_count": 70,
   "id": "d1e1723e-b944-4e23-8aad-9831c15cacd0",
   "metadata": {},
   "outputs": [
    {
     "data": {
      "text/plain": [
       "[-2, -1]"
      ]
     },
     "execution_count": 70,
     "metadata": {},
     "output_type": "execute_result"
    }
   ],
   "source": [
    "number=[-2,-1,0,1,2,3.4]\n",
    "[num for num in number if num<0]"
   ]
  },
  {
   "cell_type": "code",
   "execution_count": 74,
   "id": "82b12129-bbb3-4141-aa70-2f8b91c76f58",
   "metadata": {},
   "outputs": [
    {
     "data": {
      "text/plain": [
       "['a', 'b', 'c', 'd']"
      ]
     },
     "execution_count": 74,
     "metadata": {},
     "output_type": "execute_result"
    }
   ],
   "source": [
    "words=[\"apple\", \"banana\",\"cherry\",\"date\"]\n",
    "[word[0] for word in words]"
   ]
  },
  {
   "cell_type": "code",
   "execution_count": 85,
   "id": "a29754f3-0c0b-4bb1-972f-ae43fdc252c7",
   "metadata": {},
   "outputs": [
    {
     "data": {
      "text/plain": [
       "[32.0, 50.0, 68.0, 86.0, 104.0, 122.0]"
      ]
     },
     "execution_count": 85,
     "metadata": {},
     "output_type": "execute_result"
    }
   ],
   "source": [
    "ctemp=[0,10,20,30,40,50]\n",
    "[(9/5)*ctemp+32 for ctemp in ctemp]"
   ]
  },
  {
   "cell_type": "code",
   "execution_count": 91,
   "id": "11eba990-1d78-4eff-87cc-a6499011fa8e",
   "metadata": {},
   "outputs": [
    {
     "data": {
      "text/plain": [
       "[[1, 2, 3], [4, 5, 6], [7, 8, 9]]"
      ]
     },
     "execution_count": 91,
     "metadata": {},
     "output_type": "execute_result"
    }
   ],
   "source": [
    "list2=[[1,2,3],[4,5,6],[7,8,9]]\n",
    "list2\n"
   ]
  },
  {
   "cell_type": "code",
   "execution_count": 89,
   "id": "2076fcd6-0dc3-49bd-a860-ebb97b4a6b87",
   "metadata": {},
   "outputs": [],
   "source": [
    "### fuckin"
   ]
  },
  {
   "cell_type": "code",
   "execution_count": 94,
   "id": "24a02fd3-39b2-4e0e-bce0-727955fa9db7",
   "metadata": {},
   "outputs": [
    {
     "data": {
      "text/plain": [
       "[[1, 2, 3], [4, 5, 6], [7, 8, 9]]"
      ]
     },
     "execution_count": 94,
     "metadata": {},
     "output_type": "execute_result"
    }
   ],
   "source": [
    "[num for sublist in list2 for num ]"
   ]
  },
  {
   "cell_type": "code",
   "execution_count": null,
   "id": "82d31e9b-47fa-476f-99ef-35d984a144bc",
   "metadata": {},
   "outputs": [],
   "source": [
    "## list comprehension and code"
   ]
  },
  {
   "cell_type": "code",
   "execution_count": 16,
   "id": "860a7021-9e91-442b-b225-f11a89813683",
   "metadata": {},
   "outputs": [
    {
     "name": "stdout",
     "output_type": "stream",
     "text": [
      "1  odd\n",
      "2 even \n",
      "3  odd\n",
      "4 even \n",
      "5  odd\n",
      "6 even \n",
      "7  odd\n",
      "8 even \n",
      "9  odd\n",
      "10 even \n",
      "11  odd\n",
      "12 even \n",
      "13  odd\n",
      "14 even \n",
      "15  odd\n",
      "16 even \n",
      "17  odd\n",
      "18 even \n",
      "19  odd\n"
     ]
    }
   ],
   "source": [
    "## what all even numbers and odd numbers till 20\n",
    "\n",
    "for i in range(1,20):\n",
    "    if i%2==0:\n",
    "        print(\"{} even \".format(i))\n",
    "    else:\n",
    "        print(\"{}  odd\".format(i))"
   ]
  },
  {
   "cell_type": "code",
   "execution_count": 21,
   "id": "9b576a59-9b67-4767-8a85-358c153ca8be",
   "metadata": {},
   "outputs": [
    {
     "name": "stdout",
     "output_type": "stream",
     "text": [
      "10 this is even count\n",
      "10 this is odd event\n"
     ]
    }
   ],
   "source": [
    "## count how many even and odd numbers we have till 20 \n",
    "even_count=0\n",
    "odd_count=0\n",
    "for i in range(1,21):\n",
    "    if i%2==0:\n",
    "        even_count+=1\n",
    "       \n",
    "    else:\n",
    "        odd_count+=1\n",
    "\n",
    "print(\"{} this is even count\".format(even_count))\n",
    "print(\"{} this is odd event\".format(odd_count))\n",
    "        "
   ]
  },
  {
   "cell_type": "code",
   "execution_count": 29,
   "id": "eb3e87c8-89c6-4272-ba5e-9c72780d7d7f",
   "metadata": {},
   "outputs": [
    {
     "name": "stdout",
     "output_type": "stream",
     "text": [
      "90 the sum of even numbers\n",
      "100 the sum of odd numbers\n"
     ]
    }
   ],
   "source": [
    "## count sum of even and odd numbers:\n",
    "even_count=0\n",
    "odd_count=0\n",
    "for i in range(1,20):\n",
    "    if i%2==0:\n",
    "        \n",
    "        even_count+=i\n",
    "    else:\n",
    "    \n",
    "        odd_count+=i\n",
    "\n",
    "print(\"{} the sum of even numbers\".format(even_count))\n",
    "print(\"{} the sum of odd numbers\".format(odd_count))\n"
   ]
  },
  {
   "cell_type": "code",
   "execution_count": 38,
   "id": "1e1acceb-85b3-424f-be8c-78b60934de86",
   "metadata": {},
   "outputs": [
    {
     "name": "stdout",
     "output_type": "stream",
     "text": [
      "it is a not prime number\n",
      "it is a not prime number\n",
      "it is a not prime number\n",
      "it is a not prime number\n",
      "it is a not prime number\n",
      "it is a not prime number\n",
      "it is a not prime number\n",
      "it is a not prime number\n",
      "it is a not prime number\n"
     ]
    }
   ],
   "source": [
    "\n"
   ]
  },
  {
   "cell_type": "code",
   "execution_count": 44,
   "id": "23c1991d-d98d-4d13-9bdf-2c3db01d8989",
   "metadata": {},
   "outputs": [
    {
     "data": {
      "text/plain": [
       "['odd',\n",
       " 2,\n",
       " 'odd',\n",
       " 4,\n",
       " 'odd',\n",
       " 6,\n",
       " 'odd',\n",
       " 8,\n",
       " 'odd',\n",
       " 10,\n",
       " 'odd',\n",
       " 12,\n",
       " 'odd',\n",
       " 14,\n",
       " 'odd',\n",
       " 16,\n",
       " 'odd',\n",
       " 18,\n",
       " 'odd']"
      ]
     },
     "execution_count": 44,
     "metadata": {},
     "output_type": "execute_result"
    }
   ],
   "source": [
    "## list comprehension\n",
    "## make a program to check if it is a evennumber\n",
    "[i if i%2==0 else \"odd\"for i in range(1,20) ]"
   ]
  },
  {
   "cell_type": "code",
   "execution_count": 52,
   "id": "b4ab6908-7120-42ef-a33c-7d1a23b8673e",
   "metadata": {},
   "outputs": [
    {
     "name": "stdout",
     "output_type": "stream",
     "text": [
      "The sum of all even number till 20 is 110\n",
      "The sum of all odd number till 20 is 121\n"
     ]
    }
   ],
   "source": [
    "LIST=[1,2,3,4,5,6,7,8,9,10,11,12,13,14,15,16,17,18,19,20,21]\n",
    "even_sum=sum([num for num in LIST if num%2==0])\n",
    "odd_sum=sum([num for num in LIST if num%2!=0])\n",
    "print(\"The sum of all even number till 20 is {}\".format(even_sum))\n",
    "print(\"The sum of all odd number till 20 is {}\".format(odd_sum))"
   ]
  },
  {
   "cell_type": "code",
   "execution_count": 60,
   "id": "82523416-a7b9-445e-ba36-beeae8ed03be",
   "metadata": {},
   "outputs": [
    {
     "name": "stdout",
     "output_type": "stream",
     "text": [
      "Product of all even number till 20 is 110\n",
      "Product of all odd number till 20 is 100\n"
     ]
    }
   ],
   "source": [
    "even_prod=0\n",
    "odd_prod=0\n",
    "for i in range(1,21):\n",
    "            if i%2==0:\n",
    "                even_prod=even_prod+i\n",
    "            else:\n",
    "                odd_prod=odd_prod+i\n",
    "                \n",
    "print(\"Product of all even number till 20 is {}\".format(even_prod))\n",
    "print(\"Product of all odd number till 20 is {}\".format(odd_prod))\n",
    "        "
   ]
  },
  {
   "cell_type": "code",
   "execution_count": 63,
   "id": "387f9df6-fc5d-4406-8b9b-62e38dca2b49",
   "metadata": {},
   "outputs": [
    {
     "name": "stdout",
     "output_type": "stream",
     "text": [
      "neg num\n",
      "Pos num\n",
      "neg num\n",
      "Pos num\n",
      "Pos num\n",
      "Pos num\n"
     ]
    }
   ],
   "source": [
    "## first make a code to check if number is neg or not first make with code than list comprehension\n",
    "LIST1=[-3,4,-5,8,7,6]\n",
    "for i in LIST1:\n",
    "    if i>=0 : ## positive\n",
    "        print(\"Pos num\")\n",
    "    else:\n",
    "        print(\"neg num\")\n"
   ]
  },
  {
   "cell_type": "code",
   "execution_count": 65,
   "id": "a37d7d4d-8f48-46af-b3d9-f6e067d1d8d9",
   "metadata": {},
   "outputs": [
    {
     "data": {
      "text/plain": [
       "[4, 8, 7, 6]"
      ]
     },
     "execution_count": 65,
     "metadata": {},
     "output_type": "execute_result"
    }
   ],
   "source": [
    "[num for num in LIST1 if num>=0]"
   ]
  },
  {
   "cell_type": "code",
   "execution_count": 90,
   "id": "f3391613-07c2-454a-ab5f-f486ebfc7984",
   "metadata": {},
   "outputs": [
    {
     "data": {
      "text/plain": [
       "25"
      ]
     },
     "execution_count": 90,
     "metadata": {},
     "output_type": "execute_result"
    }
   ],
   "source": [
    "pos_sum=sum([num for num in LIST1 if num>=0])\n",
    "pos_sum"
   ]
  },
  {
   "cell_type": "code",
   "execution_count": 66,
   "id": "d10c0315-5449-40ab-9d52-cfa4e6630f72",
   "metadata": {},
   "outputs": [
    {
     "data": {
      "text/plain": [
       "[-3, -5]"
      ]
     },
     "execution_count": 66,
     "metadata": {},
     "output_type": "execute_result"
    }
   ],
   "source": [
    "[num for num in LIST1 if num<0]"
   ]
  },
  {
   "cell_type": "code",
   "execution_count": 80,
   "id": "b45461c1-74a0-4f5d-8c30-83bd5a27052a",
   "metadata": {},
   "outputs": [
    {
     "name": "stdout",
     "output_type": "stream",
     "text": [
      "r\n",
      "e\n",
      "k\n",
      "o\n",
      "j\n",
      " \n",
      "m\n",
      "'\n",
      "i\n",
      " \n",
      "w\n",
      "o\n",
      "l\n",
      "l\n",
      "e\n",
      "f\n",
      " \n",
      "y\n",
      "t\n",
      "r\n",
      "i\n",
      "d\n",
      " \n",
      "w\n",
      "o\n",
      "l\n",
      "l\n",
      "e\n",
      "y\n",
      " \n",
      "o\n",
      "l\n",
      "l\n",
      "e\n",
      "h\n"
     ]
    }
   ],
   "source": [
    "## reverse a string\n",
    "string=\"hello yellow dirty fellow i'm joker\"\n",
    "rev=len(string)-1\n",
    "while rev>=0:\n",
    "    print(string[rev])\n",
    "    rev=rev-1"
   ]
  },
  {
   "cell_type": "code",
   "execution_count": 82,
   "id": "0e77f510-b409-42f8-8d90-ad605fcfe1d5",
   "metadata": {},
   "outputs": [
    {
     "data": {
      "text/plain": [
       "[1, 2, 3, 4, 5, 6, 7, 8, 9, 10, 11, 12, 13, 14, 15, 16, 17, 18, 19, 20, 21]"
      ]
     },
     "execution_count": 82,
     "metadata": {},
     "output_type": "execute_result"
    }
   ],
   "source": [
    "## print square of numbers:\n",
    "LIST\n"
   ]
  },
  {
   "cell_type": "code",
   "execution_count": 91,
   "id": "64a04802-1018-40be-a98e-5caa28f20b78",
   "metadata": {},
   "outputs": [
    {
     "name": "stdout",
     "output_type": "stream",
     "text": [
      "The square of 1 is 1\n",
      "The square of 2 is 4\n",
      "The square of 3 is 9\n",
      "The square of 4 is 16\n",
      "The square of 5 is 25\n",
      "The square of 6 is 36\n",
      "The square of 7 is 49\n",
      "The square of 8 is 64\n",
      "The square of 9 is 81\n",
      "The square of 10 is 100\n",
      "The square of 11 is 121\n",
      "The square of 12 is 144\n",
      "The square of 13 is 169\n",
      "The square of 14 is 196\n",
      "The square of 15 is 225\n",
      "The square of 16 is 256\n",
      "The square of 17 is 289\n",
      "The square of 18 is 324\n",
      "The square of 19 is 361\n",
      "The square of 20 is 400\n",
      "The square of 21 is 441\n"
     ]
    }
   ],
   "source": [
    "for i in LIST:\n",
    "    print(\"The square of {} is {}\".format(i,i**2))"
   ]
  },
  {
   "cell_type": "code",
   "execution_count": 88,
   "id": "40861ed6-3152-4c4b-804e-645bb7412cef",
   "metadata": {},
   "outputs": [
    {
     "data": {
      "text/plain": [
       "[1,\n",
       " 4,\n",
       " 9,\n",
       " 16,\n",
       " 25,\n",
       " 36,\n",
       " 49,\n",
       " 64,\n",
       " 81,\n",
       " 100,\n",
       " 121,\n",
       " 144,\n",
       " 169,\n",
       " 196,\n",
       " 225,\n",
       " 256,\n",
       " 289,\n",
       " 324,\n",
       " 361,\n",
       " 400,\n",
       " 441]"
      ]
     },
     "execution_count": 88,
     "metadata": {},
     "output_type": "execute_result"
    }
   ],
   "source": [
    "[num**2 for num in LIST]"
   ]
  },
  {
   "cell_type": "code",
   "execution_count": 100,
   "id": "46f14dab-3eae-45a6-b52d-60e88bc507e1",
   "metadata": {},
   "outputs": [
    {
     "data": {
      "text/plain": [
       "['A', 'B', 'c', 'b']"
      ]
     },
     "execution_count": 100,
     "metadata": {},
     "output_type": "execute_result"
    }
   ],
   "source": [
    "##print the first word of strings:\n",
    "basket=[\"Apple\", \"Basket\", \"cherry\", \"banana\"]\n",
    "[word[0] for word in basket]\n",
    "    "
   ]
  },
  {
   "cell_type": "code",
   "execution_count": 107,
   "id": "34bd998d-13a2-4b85-8368-b2fb2d04dbe7",
   "metadata": {},
   "outputs": [
    {
     "name": "stdout",
     "output_type": "stream",
     "text": [
      " farhenit 0  to celusis 32.0\n",
      " farhenit 10  to celusis 50.0\n",
      " farhenit 20  to celusis 68.0\n",
      " farhenit 30  to celusis 86.0\n",
      " farhenit 40  to celusis 104.0\n",
      " farhenit 50  to celusis 122.0\n"
     ]
    }
   ],
   "source": [
    "## ctemp=[0,10,20,30,40,50]\n",
    "## [(9/5)*ctemp+32 for ctemp in ctemp]\n",
    "temp=[0,10,20,30,40,50]\n",
    "for i in temp:\n",
    "    print(\" farhenit {}  to celusis {}\".format(i,(9/5)*i+32))\n",
    "      "
   ]
  },
  {
   "cell_type": "code",
   "execution_count": 108,
   "id": "67b736be-6393-4ae8-9425-7bfe1d338a3b",
   "metadata": {},
   "outputs": [
    {
     "data": {
      "text/plain": [
       "[32.0, 50.0, 68.0, 86.0, 104.0, 122.0]"
      ]
     },
     "execution_count": 108,
     "metadata": {},
     "output_type": "execute_result"
    }
   ],
   "source": [
    "[(9/5)*ctemp+32 for ctemp in temp]"
   ]
  },
  {
   "cell_type": "code",
   "execution_count": 4,
   "id": "b5ba801e-3a9e-470d-ad38-fc60f009d8d7",
   "metadata": {},
   "outputs": [
    {
     "data": {
      "text/plain": [
       "int"
      ]
     },
     "execution_count": 4,
     "metadata": {},
     "output_type": "execute_result"
    }
   ],
   "source": [
    "## homework question \n",
    "## prime number and 2's element , matrix list\n",
    "type(4.5)\n",
    "type(2)"
   ]
  },
  {
   "cell_type": "code",
   "execution_count": null,
   "id": "acff1bb5-9b66-4bb5-8288-8d0a80a03038",
   "metadata": {},
   "outputs": [],
   "source": []
  }
 ],
 "metadata": {
  "kernelspec": {
   "display_name": "Python 3 (ipykernel)",
   "language": "python",
   "name": "python3"
  },
  "language_info": {
   "codemirror_mode": {
    "name": "ipython",
    "version": 3
   },
   "file_extension": ".py",
   "mimetype": "text/x-python",
   "name": "python",
   "nbconvert_exporter": "python",
   "pygments_lexer": "ipython3",
   "version": "3.10.8"
  }
 },
 "nbformat": 4,
 "nbformat_minor": 5
}
